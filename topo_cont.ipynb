{
 "cells": [
  {
   "cell_type": "markdown",
   "metadata": {},
   "source": [
    "[Back to the starting page](start.ipynb)"
   ]
  },
  {
   "cell_type": "code",
   "execution_count": 1,
   "metadata": {},
   "outputs": [],
   "source": [
    "from scripts import *\n",
    "import inspect\n",
    "from sklearn import linear_model"
   ]
  },
  {
   "cell_type": "code",
   "execution_count": 4,
   "metadata": {},
   "outputs": [
    {
     "name": "stdout",
     "output_type": "stream",
     "text": [
      "ETOPO 1 m min/max -9500.0 6065.0\n",
      "Crustal thickness (GEMMA 2 arc-min) km min/max 0.009429668076336384 110.61520385742188\n",
      "Strain rate (Kreemer et al, 2014) s-1 min/max 0.0 9.91755405912317e-13\n",
      "Distances closest hot spot (Morgan and Morgan, 2007) m min/max 0.0 3931478.0\n",
      "Seafloor age (Muller et al, 2008) Myrs min/max 0.0 278.9200134277344\n",
      "Lithospheric thickness (SteinBerger 2016) km min/max 14.225520133972168 263.978759765625\n",
      "Age lithosphere (Poupinet_Shapiro_2008) Ma min/max -1207.0679931640625 4128.31689453125\n"
     ]
    }
   ],
   "source": [
    "# Load data\n",
    "x,y,elev                   = load_etopo(corrected_from_ice=True)\n",
    "x,y,crustal_thickness      = load_crustal_thickness()\n",
    "x,y,strain_rate            = load_strain_rate()\n",
    "x,y,dist_closest_hs        = load_hotspots()\n",
    "x,y,age                    = load_seafloor_ages()\n",
    "x,y,lithospheric_thickness = load_lithospheric_thickness()\n",
    "x,y,age_lithos             = load_age_lithos()\n",
    "\n",
    "# correction for water load\n",
    "elev = np.where(elev<0,elev-elev*1030/3400,elev)\n",
    "\n",
    "min_dist_hs           = 1000e3 # m\n",
    "threshold_strain_rate = 1e-16  # 1/s\n",
    "ref_crustal_thickness = 35     # km"
   ]
  },
  {
   "cell_type": "code",
   "execution_count": 5,
   "metadata": {},
   "outputs": [
    {
     "name": "stdout",
     "output_type": "stream",
     "text": [
      "x,y : 1-D arrays\n",
      "data : 2-D arrays\n",
      "typedat = \"distance_1st_hs\", \"seafloorage\", \"strainrate\",\n",
      "          \"elevation\", \"crustal_thickness\", \"lithos_thickness\",\n",
      "          \"age_lithos\"\n",
      "orientationbar = 'horizontal', 'vertical'\n"
     ]
    },
    {
     "data": {
      "application/vnd.jupyter.widget-view+json": {
       "model_id": "7fb32b59df334b08812545d8f5cd39cd",
       "version_major": 2,
       "version_minor": 0
      },
      "text/plain": [
       "Canvas(toolbar=Toolbar(toolitems=[('Home', 'Reset original view', 'home', 'home'), ('Back', 'Back to previous …"
      ]
     },
     "metadata": {},
     "output_type": "display_data"
    },
    {
     "data": {
      "text/plain": [
       "masked_array(data=[712.4794311523438, 712.4794311523438,\n",
       "                   712.4794311523438, ..., -108.74118041992188,\n",
       "                   -108.74118041992188, -109.438232421875],\n",
       "             mask=[False, False, False, ..., False, False, False],\n",
       "       fill_value=1e+20,\n",
       "            dtype=float32)"
      ]
     },
     "execution_count": 5,
     "metadata": {},
     "output_type": "execute_result"
    }
   ],
   "source": [
    "# Plot continental datasets\n",
    "#\n",
    "# plt.show/plt.pcolormesh is slow\n",
    "#\n",
    "\n",
    "%matplotlib widget\n",
    "\n",
    "# Arguments description\n",
    "print(inspect.getdoc(plot_global_maps_continents))\n",
    "\n",
    "# Select data\n",
    "# In case you want to select as a function of lon and lat, you must define xlon, ylat = np.meshgrid(x,y)\n",
    "#\n",
    "data                  = np.ma.masked_array(elev,\n",
    "                                           ( (~age.mask) | \n",
    "                                             (crustal_thickness<ref_crustal_thickness-5) | \n",
    "                                             (crustal_thickness>ref_crustal_thickness+5) |\n",
    "                                             (strain_rate>threshold_strain_rate)  | \n",
    "                                             (dist_closest_hs < min_dist_hs)))\n",
    "\n",
    "# Plot\n",
    "plot_global_maps_continents(x                     = x,\n",
    "                            y                     = y,\n",
    "                            data                  = data,\n",
    "                            typedat               = 'elevation', # to set the display (xlim,ticks...)\n",
    "                            plotcircles_hs        = True,\n",
    "                            orientationbar        = 'vertical')"
   ]
  },
  {
   "cell_type": "code",
   "execution_count": 6,
   "metadata": {},
   "outputs": [
    {
     "data": {
      "application/vnd.jupyter.widget-view+json": {
       "model_id": "188e58055e4b4bbdbffc90e081611d83",
       "version_major": 2,
       "version_minor": 0
      },
      "text/plain": [
       "Canvas(toolbar=Toolbar(toolitems=[('Home', 'Reset original view', 'home', 'home'), ('Back', 'Back to previous …"
      ]
     },
     "metadata": {},
     "output_type": "display_data"
    },
    {
     "data": {
      "text/plain": [
       "<matplotlib.axes._subplots.AxesSubplot at 0x11f051040>"
      ]
     },
     "execution_count": 6,
     "metadata": {},
     "output_type": "execute_result"
    }
   ],
   "source": [
    "# Elevation distribution for stable continents with crustal thickness 35 +/- 5 km far from hotspots\n",
    "\n",
    "%matplotlib widget\n",
    "\n",
    "data = np.ma.masked_array(elev,\n",
    "                               ( (~age.mask) | \n",
    "                                 (crustal_thickness<ref_crustal_thickness-5) | \n",
    "                                 (crustal_thickness>ref_crustal_thickness+5) |\n",
    "                                 (strain_rate>threshold_strain_rate)  | \n",
    "                                 (dist_closest_hs < min_dist_hs)))\n",
    "\n",
    "plot_histo(data[~data.mask].reshape(-1),\n",
    "           'Elevation',\n",
    "           xlabel='Elevation (m)',\n",
    "           unit='m',\n",
    "           GaussianModel=False,\n",
    "           sigmamodel=175,\n",
    "           meanmodel=175,\n",
    "           text=\"right\",\n",
    "           xlim=[-1000,2500])\n"
   ]
  },
  {
   "cell_type": "code",
   "execution_count": 7,
   "metadata": {},
   "outputs": [
    {
     "data": {
      "application/vnd.jupyter.widget-view+json": {
       "model_id": "0a999530a5e04ddab5611b820ab83372",
       "version_major": 2,
       "version_minor": 0
      },
      "text/plain": [
       "Canvas(toolbar=Toolbar(toolitems=[('Home', 'Reset original view', 'home', 'home'), ('Back', 'Back to previous …"
      ]
     },
     "metadata": {},
     "output_type": "display_data"
    },
    {
     "data": {
      "text/plain": [
       "<matplotlib.axes._subplots.AxesSubplot at 0x12940b940>"
      ]
     },
     "execution_count": 7,
     "metadata": {},
     "output_type": "execute_result"
    }
   ],
   "source": [
    "# Elevation distribution for stable continents with crustal thickness +/- 5 km far from hotspots \n",
    "# excluding Antarctic\n",
    "\n",
    "%matplotlib widget\n",
    "\n",
    "# Excluding Antarctic removes the second mode\n",
    "xlon, ylat = np.meshgrid(x,y)\n",
    "data = np.ma.masked_array(elev,\n",
    "                               ( (~age.mask) | \n",
    "                                 (crustal_thickness<ref_crustal_thickness-5) | \n",
    "                                 (crustal_thickness>ref_crustal_thickness+5) |\n",
    "                                 (strain_rate>threshold_strain_rate)  | \n",
    "                                 (dist_closest_hs < min_dist_hs)      |\n",
    "                                 (ylat<-60) ) )\n",
    "\n",
    "plot_histo(data[~data.mask].reshape(-1),\n",
    "           'Elevation',\n",
    "           xlabel='Elevation (m)',\n",
    "           unit='m',\n",
    "           GaussianModel=True,\n",
    "           sigmamodel=175,\n",
    "           meanmodel=175,\n",
    "           text=\"right\",\n",
    "           xlim=[-1000,2500])\n"
   ]
  },
  {
   "cell_type": "code",
   "execution_count": 16,
   "metadata": {},
   "outputs": [
    {
     "data": {
      "application/vnd.jupyter.widget-view+json": {
       "model_id": "f8d4417fd2054558b3a8febb98df1c88",
       "version_major": 2,
       "version_minor": 0
      },
      "text/plain": [
       "Canvas(toolbar=Toolbar(toolitems=[('Home', 'Reset original view', 'home', 'home'), ('Back', 'Back to previous …"
      ]
     },
     "metadata": {},
     "output_type": "display_data"
    },
    {
     "data": {
      "text/plain": [
       "<matplotlib.axes._subplots.AxesSubplot at 0x133783610>"
      ]
     },
     "execution_count": 16,
     "metadata": {},
     "output_type": "execute_result"
    }
   ],
   "source": [
    "# Crustal thickness distribution for stable continents far from hotspots\n",
    "%matplotlib widget\n",
    "\n",
    "data = np.ma.masked_array(crustal_thickness,\n",
    "                               ( (~age.mask) | \n",
    "                                 (strain_rate>threshold_strain_rate)  | \n",
    "                                 (dist_closest_hs < min_dist_hs)))\n",
    "\n",
    "plot_histo(data[~data.mask].reshape(-1),\n",
    "           'Crustal thickness',\n",
    "           xlabel='Thickness (km)',\n",
    "           unit='km',\n",
    "           GaussianModel=True,\n",
    "           sigmamodel=5,\n",
    "           meanmodel=35,\n",
    "           text=\"right\",\n",
    "           xlim=[5,75])\n"
   ]
  },
  {
   "cell_type": "code",
   "execution_count": 14,
   "metadata": {},
   "outputs": [
    {
     "name": "stdout",
     "output_type": "stream",
     "text": [
      "Stable continents far from hotspots represent 68.8669376510444 % of the continental domain \n"
     ]
    },
    {
     "data": {
      "application/vnd.jupyter.widget-view+json": {
       "model_id": "93e7ac1354494f78a80c11e5183d5eea",
       "version_major": 2,
       "version_minor": 0
      },
      "text/plain": [
       "Canvas(toolbar=Toolbar(toolitems=[('Home', 'Reset original view', 'home', 'home'), ('Back', 'Back to previous …"
      ]
     },
     "metadata": {},
     "output_type": "display_data"
    },
    {
     "data": {
      "text/plain": [
       "<matplotlib.axes._subplots.AxesSubplot at 0x133739460>"
      ]
     },
     "execution_count": 14,
     "metadata": {},
     "output_type": "execute_result"
    }
   ],
   "source": [
    "# Correlation Elevation versus crustal thickness for stable continents far from hotspots\n",
    "\n",
    "mask          = ((age.mask) & (strain_rate<1e-16) & (dist_closest_hs > 1e6))\n",
    "mask_default  = (age.mask)\n",
    "count_default = np.count_nonzero(mask_default)\n",
    "count         = np.count_nonzero(mask)\n",
    "print('Stable continents far from hotspots represent {} % of the continental domain '.format(count*100/count_default))\n",
    "\n",
    "y        = elev[mask]\n",
    "x        = crustal_thickness[mask]\n",
    "\n",
    "%matplotlib widget\n",
    "title = 'elev continents vs crustal thickness'\n",
    "plot_correlation(x,y,title,nbins = 20,ylabel='Elevation (m)',xlabel='Crustal thickness (km)',xlim=[15,65],ylim=[-1500,4000],ticks=[10,5,2000,250],\n",
    "                 text=\"left\",plottext=False)"
   ]
  },
  {
   "cell_type": "code",
   "execution_count": 15,
   "metadata": {},
   "outputs": [],
   "source": [
    "regr = linear_model.LinearRegression()\n",
    "regr.fit(x.reshape(-1, 1), y)\n",
    "xtest = np.linspace(15,65,100)\n",
    "ypred = regr.predict(xtest.reshape(-1, 1))\n",
    "plt.plot(xtest,ypred,label='Linear fit')\n",
    "plt.legend()\n",
    "plt.show()"
   ]
  },
  {
   "cell_type": "code",
   "execution_count": 13,
   "metadata": {},
   "outputs": [
    {
     "name": "stdout",
     "output_type": "stream",
     "text": [
      "Stable continents with crustal thickness 35 +/- 5 km far from hotspots represent 30.238145289755483 % of the continental domain \n"
     ]
    },
    {
     "data": {
      "application/vnd.jupyter.widget-view+json": {
       "model_id": "ed5c5dc2950e4f598c81d4b40e3939ba",
       "version_major": 2,
       "version_minor": 0
      },
      "text/plain": [
       "Canvas(toolbar=Toolbar(toolitems=[('Home', 'Reset original view', 'home', 'home'), ('Back', 'Back to previous …"
      ]
     },
     "metadata": {},
     "output_type": "display_data"
    },
    {
     "data": {
      "text/plain": [
       "<matplotlib.axes._subplots.AxesSubplot at 0x13347b7c0>"
      ]
     },
     "execution_count": 13,
     "metadata": {},
     "output_type": "execute_result"
    }
   ],
   "source": [
    "# Correlation Elevation versus continental lithospheric thickness \n",
    "# for stable continents with crustal thickness 35 +/- 5 km far from hotspots\n",
    "\n",
    "mask          = ((age.mask) & (crustal_thickness>30) \n",
    "                            & (crustal_thickness<40) \n",
    "                            & (strain_rate<1e-16)\n",
    "                            & (dist_closest_hs > 1e6))\n",
    "mask_default  = (age.mask)\n",
    "count_default = np.count_nonzero(mask_default)\n",
    "count         = np.count_nonzero(mask)\n",
    "print('Stable continents with crustal thickness 35 +/- 5 km far from hotspots represent {} % of the continental domain '.format(count*100/count_default))\n",
    "\n",
    "y        = elev[mask]\n",
    "x        = lithospheric_thickness[mask]\n",
    "\n",
    "%matplotlib widget\n",
    "title = 'elev continents vs lithospheric thickness'\n",
    "plot_correlation(x,y,title,\n",
    "                 nbins = 20,\n",
    "                 ylabel='Elevation (m)',\n",
    "                 xlabel='Lithospheric thickness (km)',\n",
    "                 xlim=[0,250],ylim=[-1000,2500],ticks=[50,25,2000,250],\n",
    "                 text=\"left\",plottext=False)"
   ]
  },
  {
   "cell_type": "code",
   "execution_count": 12,
   "metadata": {},
   "outputs": [
    {
     "name": "stdout",
     "output_type": "stream",
     "text": [
      "Stable continents with crustal thickness 35 +/- 5 km far from hotspots represent 30.238145289755483 % of the continental domain \n"
     ]
    },
    {
     "data": {
      "application/vnd.jupyter.widget-view+json": {
       "model_id": "a78c93a66ede4e65ae9a59e88afc7f8f",
       "version_major": 2,
       "version_minor": 0
      },
      "text/plain": [
       "Canvas(toolbar=Toolbar(toolitems=[('Home', 'Reset original view', 'home', 'home'), ('Back', 'Back to previous …"
      ]
     },
     "metadata": {},
     "output_type": "display_data"
    },
    {
     "data": {
      "text/plain": [
       "<matplotlib.axes._subplots.AxesSubplot at 0x130896c10>"
      ]
     },
     "execution_count": 12,
     "metadata": {},
     "output_type": "execute_result"
    }
   ],
   "source": [
    "# Correlation Elevation versus continental lithospheric age \n",
    "# for stable continents with crustal thickness 35 +/- 5 km far from hotspots\n",
    "\n",
    "mask          = ((age.mask) & (crustal_thickness>30) \n",
    "                            & (crustal_thickness<40) \n",
    "                            & (strain_rate<1e-16)\n",
    "                            & (dist_closest_hs > 1e6))\n",
    "mask_default  = (age.mask)\n",
    "count_default = np.count_nonzero(mask_default)\n",
    "count         = np.count_nonzero(mask)\n",
    "print('Stable continents with crustal thickness 35 +/- 5 km far from hotspots represent {} % of the continental domain '.format(count*100/count_default))\n",
    "\n",
    "y        = elev[mask]\n",
    "x        = age_lithos[mask]\n",
    "\n",
    "%matplotlib widget\n",
    "title = 'elev continents vs lithospheric thickness'\n",
    "plot_correlation(x,y,title,\n",
    "                 nbins = 20,\n",
    "                 ylabel='Elevation (m)',\n",
    "                 xlabel='Lithospheric age (Ma)',\n",
    "                 xlim=[0,4500],ylim=[-1000,2500],ticks=[500,250,2000,250],\n",
    "                 text=\"left\",plottext=False)"
   ]
  },
  {
   "cell_type": "code",
   "execution_count": null,
   "metadata": {},
   "outputs": [],
   "source": []
  },
  {
   "cell_type": "code",
   "execution_count": null,
   "metadata": {},
   "outputs": [],
   "source": []
  }
 ],
 "metadata": {
  "kernelspec": {
   "display_name": "Python 3 (ipykernel)",
   "language": "python",
   "name": "python3"
  },
  "language_info": {
   "codemirror_mode": {
    "name": "ipython",
    "version": 3
   },
   "file_extension": ".py",
   "mimetype": "text/x-python",
   "name": "python",
   "nbconvert_exporter": "python",
   "pygments_lexer": "ipython3",
   "version": "3.8.12"
  }
 },
 "nbformat": 4,
 "nbformat_minor": 4
}
