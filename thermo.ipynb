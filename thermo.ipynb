{
 "cells": [
  {
   "cell_type": "markdown",
   "metadata": {},
   "source": [
    "[Back to the starting page](start.ipynb)"
   ]
  },
  {
   "cell_type": "code",
   "execution_count": 1,
   "metadata": {},
   "outputs": [],
   "source": [
    "import numpy as np\n",
    "import os\n",
    "from scripts import *\n",
    "from copy import deepcopy\n",
    "path = './data/thermodyn/'"
   ]
  },
  {
   "cell_type": "code",
   "execution_count": 2,
   "metadata": {},
   "outputs": [
    {
     "name": "stdout",
     "output_type": "stream",
     "text": [
      "The grid slm_sp2008.bin is already constructed.\n"
     ]
    }
   ],
   "source": [
    "# Build grids from given mantle composition\n",
    "# using ouputs from perplex\n",
    "# \n",
    "# Already done for all compositions shown below. \n",
    "# Only data for the composition 'slm_sp2008' is on github and accessible from Binder, the rest is on figshare\n",
    "#\n",
    "\n",
    "# Compositions (see manupscript for details)\n",
    "\n",
    "# Depleted mantle\n",
    "#name = 'mg93_low_al2o3_low_na2o_Cr'\n",
    "#name = 'mg93_high_al2o3_high_na2o_Cr'\n",
    "#name = 'mg89_low_al2o3_low_na2o_Cr'\n",
    "#name = 'ylm3'\n",
    "#name = 'ylm2'\n",
    "#name = 'plm1'\n",
    "#name = 'plm2'\n",
    "#name = 'alm0'\n",
    "#name = 'alm1'\n",
    "#name = 'alm2'\n",
    "\n",
    "# Fertile manlte composition\n",
    "#name = 'slm_klb1'\n",
    "#name = 'slm_ms'\n",
    "#name = 'slm_j79'\n",
    "name = 'slm_sp2008'   # = 'mg89_high_al2o3_high_na2o_Cr'\n",
    "                      # slm    = sub-lithospheric mantle\n",
    "                      # sp2008 = Simon and Podladchikov, 2008 \n",
    "\n",
    "# Computations with perplex are splitted into HP-HT, HP-LT and LP pressure-temperature fields\n",
    "# for stability and convergence reasons.\n",
    "#\n",
    "# Below we merge the different outputs from Perplex into one grid.\n",
    "#\n",
    "\n",
    "# 1) Build HP grid\n",
    "pmin      = 0.5e9 # Pa\n",
    "pmax      = 6.0e9 # Pa\n",
    "path_used = path+name\n",
    "\n",
    "if ( os.path.isfile(path_used+'/'+name+'.bin') ):\n",
    "    print(\"The grid {}.bin is already constructed.\".format(name))\n",
    "else:\n",
    "    print(\"Building grid for mantle composition {}\".format(name))\n",
    "    if ( os.path.isfile(path_used+'/'+name+'_HP-HT.phm') and os.path.isfile(path_used+'/'+name+'_HP-LT.phm') ):\n",
    "        print(\"Read HP-HT data...\")\n",
    "        # HP-HT\n",
    "        perplex_HP_HT = geodyn1d.thermodyn.read_output_from_perple_x(name+'_HP-HT',path=path_used)\n",
    "        geodyn1d.thermodyn.remove_outliers_from_perplex(perplex_HP_HT,window=None)\n",
    "        geodyn1d.thermodyn.remove_NaN_values_from_perplex(perplex_HP_HT)\n",
    "        print(\"Read HP-LT data...\")\n",
    "        # HP-LT\n",
    "        perplex_HP_LT = geodyn1d.thermodyn.read_output_from_perple_x(name+'_HP-LT',path=path_used)\n",
    "        geodyn1d.thermodyn.remove_outliers_from_perplex(perplex_HP_LT)   # local wrong numerical solution\n",
    "        geodyn1d.thermodyn.remove_NaN_values_from_perplex(perplex_HP_LT)\n",
    "\n",
    "        perplex_HP = geodyn1d.thermodyn.merge_perplex(\n",
    "            perplex_HP_HT,perplex_HP_LT,\n",
    "            plim=[pmin,pmax],\n",
    "            nt_used=None,np_used=None)\n",
    "\n",
    "    # 2) Build final grid\n",
    "    pmax     = 22.0e9\n",
    "    nt_used  = 100\n",
    "    np_used  = 200\n",
    "\n",
    "    # Possibility of removing local outliers (wrong numerical convergence) by defining a window [T1,T2,P1,P2]\n",
    "    window_outliers    = None\n",
    "    window_outliers2   = None\n",
    "\n",
    "    if ( os.path.isfile(path_used+'/'+name+'_LP.phm') ):\n",
    "        print(\"Read LP data...\")\n",
    "        # LP\n",
    "        perplex_LP = geodyn1d.thermodyn.read_output_from_perple_x(name+'_LP',path=path_used)\n",
    "        geodyn1d.thermodyn.remove_outliers_from_perplex(perplex_LP,window=window_outliers)\n",
    "        geodyn1d.thermodyn.remove_NaN_values_from_perplex(perplex_LP)\n",
    "    else:\n",
    "        perplex_LP = perplex_HP\n",
    "        print('No LP file')\n",
    "\n",
    "    print(\"Merge HP and LP data...\")\n",
    "    perplex_LP_HP = geodyn1d.thermodyn.merge_perplex(perplex_HP,perplex_LP,\n",
    "                                                     plim=[0,pmax],\n",
    "                                                     nt_used=nt_used,np_used=np_used,\n",
    "                                                     method='cubic')\n",
    "\n",
    "    print(\"Extrapolation at LT and HP...\")\n",
    "    perplex_LP_HP_lowT             = geodyn1d.thermodyn.extrapolate_lowT_perplex2(perplex_LP_HP)\n",
    "    perplex_LP_HP_lowT_highT       = geodyn1d.thermodyn.extrapolate_highT_perplex(perplex_LP_HP_lowT)\n",
    "    perplex_LP_HP_lowT_highT_highP = geodyn1d.thermodyn.extrapolate_highP_perplex(perplex_LP_HP_lowT_highT)\n",
    "    \n",
    "    if ( window_outliers2 is not None ):\n",
    "        geodyn1d.thermodyn.remove_outliers_from_perplex(perplex_LP_HP_lowT_highT_highP,window=window_outliers2)\n",
    "        perplex_LP_HP_lowT_highT_highP = geodyn1d.thermodyn.merge_perplex(perplex_LP_HP_lowT_highT_highP,perplex_LP_HP_lowT_highT_highP,plim=[0,pmax],nt_used=nt_used,np_used=np_used)\n",
    "\n",
    "    # Remove NaN values if present and mask unmelted domain\n",
    "    geodyn1d.thermodyn.check_melt_from_perplex(perplex_LP_HP_lowT_highT_highP)\n",
    "\n",
    "    print(\"Write final grid binary file...\")\n",
    "    # Write binary files\n",
    "    geodyn1d.thermodyn.write_binary_file_perplex(perplex_LP_HP_lowT_highT_highP,name,path=path_used)\n",
    "    print(\"Done!\")\n",
    "\n",
    "    # binary file for fortran code (Fantom)\n",
    "    #geodyn1d.thermodyn.write_binary_fortran_file_perplex(perplex_LP_HP_lowT_highT_highP,name,path=path_used)\n"
   ]
  },
  {
   "cell_type": "code",
   "execution_count": 3,
   "metadata": {},
   "outputs": [
    {
     "data": {
      "application/vnd.jupyter.widget-view+json": {
       "model_id": "e750f9efa6d8480199a15f11d294b8a8",
       "version_major": 2,
       "version_minor": 0
      },
      "text/plain": [
       "Canvas(toolbar=Toolbar(toolitems=[('Home', 'Reset original view', 'home', 'home'), ('Back', 'Back to previous …"
      ]
     },
     "metadata": {},
     "output_type": "display_data"
    },
    {
     "data": {
      "application/vnd.jupyter.widget-view+json": {
       "model_id": "234e1d1afe2546d5a50ac55b5ff1cbcd",
       "version_major": 2,
       "version_minor": 0
      },
      "text/plain": [
       "Canvas(toolbar=Toolbar(toolitems=[('Home', 'Reset original view', 'home', 'home'), ('Back', 'Back to previous …"
      ]
     },
     "metadata": {},
     "output_type": "display_data"
    },
    {
     "data": {
      "application/vnd.jupyter.widget-view+json": {
       "model_id": "a399fb52094a488dafda77bae1261ede",
       "version_major": 2,
       "version_minor": 0
      },
      "text/plain": [
       "Canvas(toolbar=Toolbar(toolitems=[('Home', 'Reset original view', 'home', 'home'), ('Back', 'Back to previous …"
      ]
     },
     "metadata": {},
     "output_type": "display_data"
    },
    {
     "data": {
      "application/vnd.jupyter.widget-view+json": {
       "model_id": "2f6ba61c1e274ecc91e5cca8d48e1467",
       "version_major": 2,
       "version_minor": 0
      },
      "text/plain": [
       "Canvas(toolbar=Toolbar(toolitems=[('Home', 'Reset original view', 'home', 'home'), ('Back', 'Back to previous …"
      ]
     },
     "metadata": {},
     "output_type": "display_data"
    },
    {
     "data": {
      "application/vnd.jupyter.widget-view+json": {
       "model_id": "7eed4fd092ae41f89a2e93111dcdd7bb",
       "version_major": 2,
       "version_minor": 0
      },
      "text/plain": [
       "Canvas(toolbar=Toolbar(toolitems=[('Home', 'Reset original view', 'home', 'home'), ('Back', 'Back to previous …"
      ]
     },
     "metadata": {},
     "output_type": "display_data"
    },
    {
     "data": {
      "application/vnd.jupyter.widget-view+json": {
       "model_id": "3a9c7ae62a784fda8ac3b752b133cf64",
       "version_major": 2,
       "version_minor": 0
      },
      "text/plain": [
       "Canvas(toolbar=Toolbar(toolitems=[('Home', 'Reset original view', 'home', 'home'), ('Back', 'Back to previous …"
      ]
     },
     "metadata": {},
     "output_type": "display_data"
    },
    {
     "data": {
      "application/vnd.jupyter.widget-view+json": {
       "model_id": "6d07cd30a76c4520b2dedfe1548b6b71",
       "version_major": 2,
       "version_minor": 0
      },
      "text/plain": [
       "Canvas(toolbar=Toolbar(toolitems=[('Home', 'Reset original view', 'home', 'home'), ('Back', 'Back to previous …"
      ]
     },
     "metadata": {},
     "output_type": "display_data"
    }
   ],
   "source": [
    "# Plotting P-T maps\n",
    "\n",
    "# Depleted mantle\n",
    "#name = 'mg93_low_al2o3_low_na2o_Cr'\n",
    "#name = 'mg93_high_al2o3_high_na2o_Cr'\n",
    "#name = 'mg89_low_al2o3_low_na2o_Cr'\n",
    "#name = 'ylm3'\n",
    "#name = 'ylm2'\n",
    "#name = 'plm1'\n",
    "#name = 'plm2'\n",
    "#name = 'alm0'\n",
    "#name = 'alm1'\n",
    "#name = 'alm2'\n",
    "\n",
    "# Fertile manlte composition\n",
    "#name = 'slm_klb1'\n",
    "#name = 'slm_ms'\n",
    "#name = 'slm_j79'\n",
    "name = 'slm_sp2008'\n",
    "\n",
    "path_used = path+name\n",
    "\n",
    "read_perplex = geodyn1d.thermodyn.read_binary_file_perplex(name,path=path_used)\n",
    "\n",
    "%matplotlib widget\n",
    "\n",
    "geodyn1d.visualization.plot_table(read_perplex,data='rhoresidual',ylim=[0,6e9],vmin=3100,vmax=3500,display_contour=True)\n",
    "geodyn1d.visualization.plot_table(read_perplex,data='alpharesidual',ylim=[0,6e9],display_contour=True)\n",
    "geodyn1d.visualization.plot_table(read_perplex,data='betaresidual',ylim=[0,6e9],display_contour=True)\n",
    "\n",
    "geodyn1d.visualization.plot_table(read_perplex,data='melt',ylim=[0,6e9],display_contour=True)\n",
    "geodyn1d.visualization.plot_table(read_perplex,data='rhomelt',ylim=[0,6e9],display_contour=True)\n",
    "\n",
    "geodyn1d.visualization.plot_table(read_perplex,data='alphamelt',ylim=[0,6e9],display_contour=True)\n",
    "geodyn1d.visualization.plot_table(read_perplex,data='betamelt',ylim=[0,6e9],display_contour=True)\n",
    "\n",
    "plt.show()"
   ]
  },
  {
   "cell_type": "code",
   "execution_count": 4,
   "metadata": {},
   "outputs": [
    {
     "data": {
      "application/vnd.jupyter.widget-view+json": {
       "model_id": "2e0e96be995a467782705bc6366280a9",
       "version_major": 2,
       "version_minor": 0
      },
      "text/plain": [
       "Canvas(toolbar=Toolbar(toolitems=[('Home', 'Reset original view', 'home', 'home'), ('Back', 'Back to previous …"
      ]
     },
     "metadata": {},
     "output_type": "display_data"
    },
    {
     "name": "stdout",
     "output_type": "stream",
     "text": [
      " z bottom (km) = 600000.0\n",
      " k asth. = 97.50\n",
      " Grad slm = 0.4\n",
      " Qbasal = 0.0195000000\n",
      " Tbasal = 1520.0\n",
      " Tp = 1280.0\n",
      "Layer 5 T top = 1280.0 Q top = 19.50 (matSLM)\n",
      " Qsurface = 19.50 mW/m2\n",
      "Temperatures moho 1280.0000000002183 lab 1296.0 (degree Celsius)\n",
      " Average ref. density 3399.0 +/- 12.4 kg/m3 (lithospheric + sub-lithospheric mantles together)\n"
     ]
    },
    {
     "data": {
      "application/vnd.jupyter.widget-view+json": {
       "model_id": "61c3e9c0af9d4262ae8bc42f8d0d42f1",
       "version_major": 2,
       "version_minor": 0
      },
      "text/plain": [
       "Canvas(toolbar=Toolbar(toolitems=[('Home', 'Reset original view', 'home', 'home'), ('Back', 'Back to previous …"
      ]
     },
     "metadata": {},
     "output_type": "display_data"
    }
   ],
   "source": [
    "# Relationship between density of the residual and melt fraction for the reference fertile sub-lithospheric mantle\n",
    "#\n",
    "# Toward an estimate of the density reduction by depletion inside the melt window \n",
    "# along the adiabat for the reference fertile sub-lithospheric mantle\n",
    "# \n",
    "# Important remark:\n",
    "# - Neither rho nor rhoresidual is used in the melt window to compute the density in the 2-D geodynamic code\n",
    "# - We use equation (6) to compute rho(T,P)_0 = 3396 + delta_rho_X(phi)\n",
    "# (see below and also explanations in the paper and supplemental figure S11)\n",
    "#\n",
    "\n",
    "lith_name    = 'ridge_NoOc_NoDiffLayer'\n",
    "name         = 'slm_sp2008'\n",
    "path_used    = path+name\n",
    "\n",
    "# Display reference geotherms\n",
    "\n",
    "%matplotlib widget\n",
    "\n",
    "read_perplex = geodyn1d.thermodyn.read_binary_file_perplex(name,path=path_used)\n",
    "geodyn1d.visualization.plot_table(read_perplex,\n",
    "                                  data='rhoresidual',\n",
    "                                  ylim=[0,6e9],vmin=3100,vmax=3500,\n",
    "                                  display_contour=True,\n",
    "                                  geotherms=True,\n",
    "                                  lithospheres=['lith180','lith125',lith_name])\n",
    "\n",
    "# Load data\n",
    "lith1    = geodyn1d.lithosphere(lith_name)\n",
    "perplex  = geodyn1d.thermodyn.read_binary_file_perplex(name,path=path_used)\n",
    "\n",
    "# Compute reference density (correction of the effect of temperature and pressure on densities)\n",
    "perplex.rho   = perplex.rhoresidual\n",
    "perplex.alpha = perplex.alpharesidual\n",
    "perplex.beta  = perplex.betaresidual\n",
    "rho_ref_value, rho_ref_std, rho_ref = geodyn1d.thermodyn.compute_rho_ref_perplex(perplex,domainBased=False,lithos=lith1)\n",
    "\n",
    "melt    = deepcopy(perplex.melt)\n",
    "rho_ref = rho_ref[melt>1e-4]\n",
    "melt    = melt[melt>1e-4]*100\n",
    "\n",
    "# Compute and plot density of the residual versus melt fraction varying mantle temperature (1280-1400)\n",
    "#\n",
    "plt.figure()\n",
    "sort_melt, sort_rhoref = compute_rhoref_along_geotherm(perplex,lithos=lith1)\n",
    "plt.plot(sort_melt,sort_rhoref,label='Tp=1280')\n",
    "sort_melt, sort_rhoref = compute_rhoref_along_geotherm(perplex,lithos=lith1,temperature_shift=20)\n",
    "plt.plot(sort_melt,sort_rhoref,label='Tp=1300')\n",
    "sort_melt, sort_rhoref = compute_rhoref_along_geotherm(perplex,lithos=lith1,temperature_shift=70)\n",
    "plt.plot(sort_melt,sort_rhoref,label='Tp=1350')\n",
    "sort_melt, sort_rhoref = compute_rhoref_along_geotherm(perplex,lithos=lith1,temperature_shift=120)\n",
    "plt.plot(sort_melt,sort_rhoref,label='Tp=1400')\n",
    "\n",
    "# Plot model used in this study\n",
    "#\n",
    "phi            = np.linspace(0,100,10000)\n",
    "rhoref_model_1 = 3396 - 3.8*phi[phi<7.5] # phi < 7.5\n",
    "rhoref_model_2 = 3371.16 - 0.487805*phi[phi>=7.5] # phi >= 7.5\n",
    "rhoref_model   = np.concatenate((rhoref_model_1,rhoref_model_2),axis=None)\n",
    "plt.plot(phi,rhoref_model,\n",
    "         label=r'$3396-3.8\\phi$'+\", if (\"+r'$\\phi<7.5$'+\")\\n\"+\n",
    "               r'$3371.16-(24.84 + 0.488\\phi)$'+\", otherwise\")\n",
    "\n",
    "plt.ylabel(r'Reference residual density $\\rho(P,T)_{0}$ $kg/m^{3}$')\n",
    "plt.xlim([0,28])\n",
    "plt.ylim([3350,3400])\n",
    "plt.xlabel('$\\phi_{batch}$')\n",
    "plt.title('Density reduction by depletion inside the melt window \\n along the adiabat for the reference fertile sub-lithospheric mantle ('+name+')')\n",
    "plt.legend()\n",
    "plt.show()"
   ]
  },
  {
   "cell_type": "code",
   "execution_count": null,
   "metadata": {},
   "outputs": [],
   "source": []
  }
 ],
 "metadata": {
  "kernelspec": {
   "display_name": "Python 3 (ipykernel)",
   "language": "python",
   "name": "python3"
  },
  "language_info": {
   "codemirror_mode": {
    "name": "ipython",
    "version": 3
   },
   "file_extension": ".py",
   "mimetype": "text/x-python",
   "name": "python",
   "nbconvert_exporter": "python",
   "pygments_lexer": "ipython3",
   "version": "3.8.12"
  }
 },
 "nbformat": 4,
 "nbformat_minor": 4
}
