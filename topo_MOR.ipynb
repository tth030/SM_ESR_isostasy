{
 "cells": [
  {
   "cell_type": "markdown",
   "metadata": {},
   "source": [
    "[Back to the starting page](start.ipynb)"
   ]
  },
  {
   "cell_type": "code",
   "execution_count": 1,
   "metadata": {},
   "outputs": [],
   "source": [
    "from scripts import *"
   ]
  },
  {
   "cell_type": "code",
   "execution_count": 2,
   "metadata": {},
   "outputs": [
    {
     "name": "stdout",
     "output_type": "stream",
     "text": [
      "This selection already exists (./data/topography/./MOR_pts_far_from_hs_25km.dat)\n",
      "Total defined pts along MOR = 5960 \n"
     ]
    }
   ],
   "source": [
    "# Define points that are localized along active mid-ocean ridges (MOR) based on the analysis of \n",
    "# 2 arc-minutes grid (one point every ~3.7 km). For each point we extract the elevation and spreading rate of the MOR.\n",
    "# \n",
    "# !!! Computation is very slow - Done for 1 point every 25 km along MOR\n",
    "#\n",
    "\n",
    "#selection_name  ='MOR_pts_all'\n",
    "selection_name  ='MOR_pts_far_from_hs'\n",
    "#selection_name  ='MOR_pts_close_to_hs'\n",
    "\n",
    "distance_between_pts_along_ridges = 25   # km\n",
    "\n",
    "define_MOR_pts(selection_name                    = selection_name,\n",
    "               distance_between_pts_along_ridges = distance_between_pts_along_ridges)"
   ]
  },
  {
   "cell_type": "code",
   "execution_count": 3,
   "metadata": {},
   "outputs": [
    {
     "data": {
      "application/vnd.jupyter.widget-view+json": {
       "model_id": "06181fe1b7c845d1b551c5e049ea47f4",
       "version_major": 2,
       "version_minor": 0
      },
      "text/plain": [
       "Canvas(toolbar=Toolbar(toolitems=[('Home', 'Reset original view', 'home', 'home'), ('Back', 'Back to previous …"
      ]
     },
     "metadata": {},
     "output_type": "display_data"
    }
   ],
   "source": [
    "# Plot elevation along MOR - small blue points shows the location of the profiles displayed below\n",
    "\n",
    "%matplotlib widget\n",
    "\n",
    "selection_name                    = 'MOR_pts_far_from_hs'\n",
    "distance_between_pts_along_ridges = 25   # km\n",
    "\n",
    "plot_MOR(selection_name                    = selection_name,\n",
    "         distance_between_pts_along_ridges = distance_between_pts_along_ridges)"
   ]
  },
  {
   "cell_type": "code",
   "execution_count": 4,
   "metadata": {},
   "outputs": [
    {
     "data": {
      "application/vnd.jupyter.widget-view+json": {
       "model_id": "33239408d39049999f7bc13f41fa4e47",
       "version_major": 2,
       "version_minor": 0
      },
      "text/plain": [
       "Canvas(toolbar=Toolbar(toolitems=[('Home', 'Reset original view', 'home', 'home'), ('Back', 'Back to previous …"
      ]
     },
     "metadata": {},
     "output_type": "display_data"
    }
   ],
   "source": [
    "# MOR elevation distribution far from hotspots\n",
    "\n",
    "%matplotlib widget\n",
    "\n",
    "selection_name                    = 'MOR_pts_far_from_hs'\n",
    "distance_between_pts_along_ridges = 25   # km\n",
    "\n",
    "plot_histo_elev_MOR(selection_name=selection_name,\n",
    "                    distance_between_pts_along_ridges = distance_between_pts_along_ridges,\n",
    "                    sigmamodel=250,\n",
    "                    meanmodel=-2750)"
   ]
  },
  {
   "cell_type": "code",
   "execution_count": 5,
   "metadata": {},
   "outputs": [
    {
     "data": {
      "application/vnd.jupyter.widget-view+json": {
       "model_id": "cab9a784b3da4fa98ccdd290cf42a428",
       "version_major": 2,
       "version_minor": 0
      },
      "text/plain": [
       "Canvas(toolbar=Toolbar(toolitems=[('Home', 'Reset original view', 'home', 'home'), ('Back', 'Back to previous …"
      ]
     },
     "metadata": {},
     "output_type": "display_data"
    }
   ],
   "source": [
    "# MOR elevation distribution close to hotspots\n",
    "\n",
    "%matplotlib widget\n",
    "\n",
    "selection_name                    = 'MOR_pts_close_to_hs'\n",
    "distance_between_pts_along_ridges = 25   # km\n",
    "\n",
    "plot_histo_elev_MOR(selection_name=selection_name,\n",
    "                    distance_between_pts_along_ridges = distance_between_pts_along_ridges,\n",
    "                    sigmamodel=150,\n",
    "                    meanmodel=-2550)"
   ]
  },
  {
   "cell_type": "code",
   "execution_count": 6,
   "metadata": {},
   "outputs": [
    {
     "data": {
      "application/vnd.jupyter.widget-view+json": {
       "model_id": "5e46178271474ab48addc8ce452e6e34",
       "version_major": 2,
       "version_minor": 0
      },
      "text/plain": [
       "Canvas(toolbar=Toolbar(toolitems=[('Home', 'Reset original view', 'home', 'home'), ('Back', 'Back to previous …"
      ]
     },
     "metadata": {},
     "output_type": "display_data"
    }
   ],
   "source": [
    "# MOR elevation versus spreading rate\n",
    "\n",
    "%matplotlib widget\n",
    "\n",
    "selection_name  ='MOR_pts_far_from_hs'\n",
    "\n",
    "plot_correlation_elev_spreading_rate(selection_name=selection_name,\n",
    "                                     distance_between_pts_along_ridges = distance_between_pts_along_ridges)"
   ]
  },
  {
   "cell_type": "code",
   "execution_count": 2,
   "metadata": {},
   "outputs": [
    {
     "name": "stdout",
     "output_type": "stream",
     "text": [
      "ETOPO 1 m (ETOPO1_Bed_g_gmt4_filtered.grd) min/max -9500.0 6065.0\n",
      "Unfiltered raw 1 arc-min ETOPO1 dataset not available (check if you have downloaded FigShare Dataset) - Not available on Binder (./data/topography/ETOPO1_Bed_g_gmt4.grd)\n",
      "Full seafloor spreading rate (Muller et al, 2008) cm/yr min/max 0.0 30.0\n",
      "Seafloor age (Muller et al, 2008) Myrs min/max 0.0 278.9200134277344\n",
      "-----------------------\n",
      "MAR_05N\n",
      "-----------------------\n",
      "High-resolution regional dataset not available (check if you have downloaded FigShare Dataset) - Not available on Binder (./data/topography/GMRT3.6/MAR_05N_topo-mask.grd)\n"
     ]
    },
    {
     "data": {
      "application/vnd.jupyter.widget-view+json": {
       "model_id": "d7a4beec36f341cc899fad995b9cc315",
       "version_major": 2,
       "version_minor": 0
      },
      "text/plain": [
       "Canvas(toolbar=Toolbar(toolitems=[('Home', 'Reset original view', 'home', 'home'), ('Back', 'Back to previous …"
      ]
     },
     "metadata": {},
     "output_type": "display_data"
    },
    {
     "name": "stdout",
     "output_type": "stream",
     "text": [
      "-----------------------\n",
      "MAR_12S\n",
      "-----------------------\n",
      "High-resolution regional dataset not available (check if you have downloaded FigShare Dataset) - Not available on Binder (./data/topography/GMRT3.6/MAR_12S_topo-mask.grd)\n"
     ]
    },
    {
     "data": {
      "application/vnd.jupyter.widget-view+json": {
       "model_id": "1dc8c77097234225a5423138036decd2",
       "version_major": 2,
       "version_minor": 0
      },
      "text/plain": [
       "Canvas(toolbar=Toolbar(toolitems=[('Home', 'Reset original view', 'home', 'home'), ('Back', 'Back to previous …"
      ]
     },
     "metadata": {},
     "output_type": "display_data"
    },
    {
     "name": "stdout",
     "output_type": "stream",
     "text": [
      "-----------------------\n",
      "MAR_22N\n",
      "-----------------------\n",
      "High-resolution regional dataset not available (check if you have downloaded FigShare Dataset) - Not available on Binder (./data/topography/GMRT3.6/MAR_22N_topo-mask.grd)\n"
     ]
    },
    {
     "data": {
      "application/vnd.jupyter.widget-view+json": {
       "model_id": "a6c95d0eb7274ce08602269aa47af7d6",
       "version_major": 2,
       "version_minor": 0
      },
      "text/plain": [
       "Canvas(toolbar=Toolbar(toolitems=[('Home', 'Reset original view', 'home', 'home'), ('Back', 'Back to previous …"
      ]
     },
     "metadata": {},
     "output_type": "display_data"
    },
    {
     "name": "stdout",
     "output_type": "stream",
     "text": [
      "-----------------------\n",
      "MAR_27N\n",
      "-----------------------\n",
      "High-resolution regional dataset not available (check if you have downloaded FigShare Dataset) - Not available on Binder (./data/topography/GMRT3.6/MAR_27N_topo-mask.grd)\n"
     ]
    },
    {
     "data": {
      "application/vnd.jupyter.widget-view+json": {
       "model_id": "253b301518e84145b45926bd79aaa6b3",
       "version_major": 2,
       "version_minor": 0
      },
      "text/plain": [
       "Canvas(toolbar=Toolbar(toolitems=[('Home', 'Reset original view', 'home', 'home'), ('Back', 'Back to previous …"
      ]
     },
     "metadata": {},
     "output_type": "display_data"
    },
    {
     "name": "stdout",
     "output_type": "stream",
     "text": [
      "-----------------------\n",
      "MAR_30S\n",
      "-----------------------\n",
      "High-resolution regional dataset not available (check if you have downloaded FigShare Dataset) - Not available on Binder (./data/topography/GMRT3.6/MAR_30S_topo-mask.grd)\n"
     ]
    },
    {
     "data": {
      "application/vnd.jupyter.widget-view+json": {
       "model_id": "dc9fe7fcab9b402499ae7b431976db0e",
       "version_major": 2,
       "version_minor": 0
      },
      "text/plain": [
       "Canvas(toolbar=Toolbar(toolitems=[('Home', 'Reset original view', 'home', 'home'), ('Back', 'Back to previous …"
      ]
     },
     "metadata": {},
     "output_type": "display_data"
    },
    {
     "name": "stdout",
     "output_type": "stream",
     "text": [
      "-----------------------\n",
      "MAR_46S\n",
      "-----------------------\n",
      "High-resolution regional dataset not available (check if you have downloaded FigShare Dataset) - Not available on Binder (./data/topography/GMRT3.6/MAR_46S_topo-mask.grd)\n"
     ]
    },
    {
     "data": {
      "application/vnd.jupyter.widget-view+json": {
       "model_id": "e8e85a371d4b475ea64aa43510fe754d",
       "version_major": 2,
       "version_minor": 0
      },
      "text/plain": [
       "Canvas(toolbar=Toolbar(toolitems=[('Home', 'Reset original view', 'home', 'home'), ('Back', 'Back to previous …"
      ]
     },
     "metadata": {},
     "output_type": "display_data"
    },
    {
     "name": "stdout",
     "output_type": "stream",
     "text": [
      "-----------------------\n",
      "MAR_57N\n",
      "-----------------------\n",
      "High-resolution regional dataset not available (check if you have downloaded FigShare Dataset) - Not available on Binder (./data/topography/GMRT3.6/MAR_57N_topo-mask.grd)\n"
     ]
    },
    {
     "data": {
      "application/vnd.jupyter.widget-view+json": {
       "model_id": "aceb4202a7bc42bf8e042aa64803cfad",
       "version_major": 2,
       "version_minor": 0
      },
      "text/plain": [
       "Canvas(toolbar=Toolbar(toolitems=[('Home', 'Reset original view', 'home', 'home'), ('Back', 'Back to previous …"
      ]
     },
     "metadata": {},
     "output_type": "display_data"
    },
    {
     "name": "stdout",
     "output_type": "stream",
     "text": [
      "-----------------------\n",
      "EPR_10N\n",
      "-----------------------\n",
      "High-resolution regional dataset not available (check if you have downloaded FigShare Dataset) - Not available on Binder (./data/topography/GMRT3.6/EPR_10N_topo-mask.grd)\n"
     ]
    },
    {
     "data": {
      "application/vnd.jupyter.widget-view+json": {
       "model_id": "85adbc8dde064f18b4b6a54b140d7a88",
       "version_major": 2,
       "version_minor": 0
      },
      "text/plain": [
       "Canvas(toolbar=Toolbar(toolitems=[('Home', 'Reset original view', 'home', 'home'), ('Back', 'Back to previous …"
      ]
     },
     "metadata": {},
     "output_type": "display_data"
    },
    {
     "name": "stdout",
     "output_type": "stream",
     "text": [
      "-----------------------\n",
      "EPR_15S\n",
      "-----------------------\n",
      "High-resolution regional dataset not available (check if you have downloaded FigShare Dataset) - Not available on Binder (./data/topography/GMRT3.6/EPR_15S_topo-mask.grd)\n"
     ]
    },
    {
     "data": {
      "application/vnd.jupyter.widget-view+json": {
       "model_id": "8a53b64ca19e4f2c82d8df1798119595",
       "version_major": 2,
       "version_minor": 0
      },
      "text/plain": [
       "Canvas(toolbar=Toolbar(toolitems=[('Home', 'Reset original view', 'home', 'home'), ('Back', 'Back to previous …"
      ]
     },
     "metadata": {},
     "output_type": "display_data"
    },
    {
     "name": "stdout",
     "output_type": "stream",
     "text": [
      "-----------------------\n",
      "EPR_40S\n",
      "-----------------------\n",
      "High-resolution regional dataset not available (check if you have downloaded FigShare Dataset) - Not available on Binder (./data/topography/GMRT3.6/EPR_40S_topo-mask.grd)\n"
     ]
    },
    {
     "data": {
      "application/vnd.jupyter.widget-view+json": {
       "model_id": "5f93e1632f6f4214b47c2d8f021bc00f",
       "version_major": 2,
       "version_minor": 0
      },
      "text/plain": [
       "Canvas(toolbar=Toolbar(toolitems=[('Home', 'Reset original view', 'home', 'home'), ('Back', 'Back to previous …"
      ]
     },
     "metadata": {},
     "output_type": "display_data"
    },
    {
     "name": "stdout",
     "output_type": "stream",
     "text": [
      "-----------------------\n",
      "EPR_65S\n",
      "-----------------------\n",
      "High-resolution regional dataset not available (check if you have downloaded FigShare Dataset) - Not available on Binder (./data/topography/GMRT3.6/EPR_65S_topo-mask.grd)\n"
     ]
    },
    {
     "data": {
      "application/vnd.jupyter.widget-view+json": {
       "model_id": "ecb8c7db95f2431ab04d89c166d66e28",
       "version_major": 2,
       "version_minor": 0
      },
      "text/plain": [
       "Canvas(toolbar=Toolbar(toolitems=[('Home', 'Reset original view', 'home', 'home'), ('Back', 'Back to previous …"
      ]
     },
     "metadata": {},
     "output_type": "display_data"
    },
    {
     "name": "stdout",
     "output_type": "stream",
     "text": [
      "-----------------------\n",
      "SEIR_110E\n",
      "-----------------------\n",
      "High-resolution regional dataset not available (check if you have downloaded FigShare Dataset) - Not available on Binder (./data/topography/GMRT3.6/SEIR_110E_topo-mask.grd)\n"
     ]
    },
    {
     "data": {
      "application/vnd.jupyter.widget-view+json": {
       "model_id": "33da1bd97b804769961422fa15bb0cb8",
       "version_major": 2,
       "version_minor": 0
      },
      "text/plain": [
       "Canvas(toolbar=Toolbar(toolitems=[('Home', 'Reset original view', 'home', 'home'), ('Back', 'Back to previous …"
      ]
     },
     "metadata": {},
     "output_type": "display_data"
    },
    {
     "name": "stdout",
     "output_type": "stream",
     "text": [
      "-----------------------\n",
      "SEIR_91E\n",
      "-----------------------\n",
      "High-resolution regional dataset not available (check if you have downloaded FigShare Dataset) - Not available on Binder (./data/topography/GMRT3.6/SEIR_91E_topo-mask.grd)\n"
     ]
    },
    {
     "data": {
      "application/vnd.jupyter.widget-view+json": {
       "model_id": "568acfb58fd541be8e83186604c45907",
       "version_major": 2,
       "version_minor": 0
      },
      "text/plain": [
       "Canvas(toolbar=Toolbar(toolitems=[('Home', 'Reset original view', 'home', 'home'), ('Back', 'Back to previous …"
      ]
     },
     "metadata": {},
     "output_type": "display_data"
    },
    {
     "name": "stdout",
     "output_type": "stream",
     "text": [
      "-----------------------\n",
      "CIR_2N\n",
      "-----------------------\n",
      "High-resolution regional dataset not available (check if you have downloaded FigShare Dataset) - Not available on Binder (./data/topography/GMRT3.6/SEIR_91E_topo-mask.grd)\n"
     ]
    },
    {
     "data": {
      "application/vnd.jupyter.widget-view+json": {
       "model_id": "a189a8c3fa754d0c9b596926f5fc2320",
       "version_major": 2,
       "version_minor": 0
      },
      "text/plain": [
       "Canvas(toolbar=Toolbar(toolitems=[('Home', 'Reset original view', 'home', 'home'), ('Back', 'Back to previous …"
      ]
     },
     "metadata": {},
     "output_type": "display_data"
    },
    {
     "name": "stdout",
     "output_type": "stream",
     "text": [
      "-----------------------\n",
      "CIR_11S\n",
      "-----------------------\n",
      "High-resolution regional dataset not available (check if you have downloaded FigShare Dataset) - Not available on Binder (./data/topography/GMRT3.6/SEIR_91E_topo-mask.grd)\n"
     ]
    },
    {
     "data": {
      "application/vnd.jupyter.widget-view+json": {
       "model_id": "4d65ce2274fd4277b2625d80f79c2925",
       "version_major": 2,
       "version_minor": 0
      },
      "text/plain": [
       "Canvas(toolbar=Toolbar(toolitems=[('Home', 'Reset original view', 'home', 'home'), ('Back', 'Back to previous …"
      ]
     },
     "metadata": {},
     "output_type": "display_data"
    },
    {
     "name": "stdout",
     "output_type": "stream",
     "text": [
      "-----------------------\n",
      "SWIR_24E\n",
      "-----------------------\n",
      "High-resolution regional dataset not available (check if you have downloaded FigShare Dataset) - Not available on Binder (./data/topography/GMRT3.6/SWIR_24E_topo-mask.grd)\n"
     ]
    },
    {
     "data": {
      "application/vnd.jupyter.widget-view+json": {
       "model_id": "aa1127871e8242639310b44a41f4f83a",
       "version_major": 2,
       "version_minor": 0
      },
      "text/plain": [
       "Canvas(toolbar=Toolbar(toolitems=[('Home', 'Reset original view', 'home', 'home'), ('Back', 'Back to previous …"
      ]
     },
     "metadata": {},
     "output_type": "display_data"
    },
    {
     "name": "stdout",
     "output_type": "stream",
     "text": [
      "-----------------------\n",
      "ARC_24E\n",
      "-----------------------\n",
      "High-resolution regional dataset not available (check if you have downloaded FigShare Dataset) - Not available on Binder (./data/topography/none)\n"
     ]
    },
    {
     "data": {
      "application/vnd.jupyter.widget-view+json": {
       "model_id": "bcac691b4cff4fb4a61ced555acc076d",
       "version_major": 2,
       "version_minor": 0
      },
      "text/plain": [
       "Canvas(toolbar=Toolbar(toolitems=[('Home', 'Reset original view', 'home', 'home'), ('Back', 'Back to previous …"
      ]
     },
     "metadata": {},
     "output_type": "display_data"
    }
   ],
   "source": [
    "# Plot some bathymetric profiles along MOR (Some are shown on Fig. 3)\n",
    "\n",
    "%matplotlib widget\n",
    "\n",
    "plot_MOR_profile(name='all',use_fixed_width=True,width=300000,xlim=[0,300],ylim=[-4500,-1500])\n"
   ]
  },
  {
   "cell_type": "code",
   "execution_count": null,
   "metadata": {},
   "outputs": [],
   "source": []
  }
 ],
 "metadata": {
  "kernelspec": {
   "display_name": "Python 3 (ipykernel)",
   "language": "python",
   "name": "python3"
  },
  "language_info": {
   "codemirror_mode": {
    "name": "ipython",
    "version": 3
   },
   "file_extension": ".py",
   "mimetype": "text/x-python",
   "name": "python",
   "nbconvert_exporter": "python",
   "pygments_lexer": "ipython3",
   "version": "3.8.12"
  }
 },
 "nbformat": 4,
 "nbformat_minor": 4
}
