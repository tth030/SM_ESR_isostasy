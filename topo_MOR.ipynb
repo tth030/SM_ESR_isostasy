{
 "cells": [
  {
   "cell_type": "markdown",
   "metadata": {},
   "source": [
    "[Back to the starting page](start.ipynb)"
   ]
  },
  {
   "cell_type": "code",
   "execution_count": null,
   "metadata": {},
   "outputs": [],
   "source": [
    "from scripts import *"
   ]
  },
  {
   "cell_type": "code",
   "execution_count": null,
   "metadata": {},
   "outputs": [],
   "source": [
    "# Define points that are localized along active mid-ocean ridges (MOR) based on the analysis of \n",
    "# 2 arc-minutes grid (one point every ~3.7 km). For each point we extract the elevation and spreading rate of the MOR.\n",
    "# \n",
    "# !!! Computation is very slow - Done for 1 point every 25 km along MOR\n",
    "#\n",
    "\n",
    "selection_name  ='MOR_pts_all'\n",
    "#selection_name  ='MOR_pts_far_from_hs'\n",
    "#selection_name  ='MOR_pts_close_to_hs'\n",
    "\n",
    "distance_between_pts_along_ridges = 25   # km\n",
    "\n",
    "define_MOR_pts(selection_name                    = selection_name,\n",
    "               distance_between_pts_along_ridges = distance_between_pts_along_ridges)"
   ]
  },
  {
   "cell_type": "code",
   "execution_count": null,
   "metadata": {},
   "outputs": [],
   "source": [
    "# Plot elevation along MOR - small blue points shows the location of the profiles displayed below\n",
    "\n",
    "%matplotlib widget\n",
    "\n",
    "selection_name                    = 'MOR_pts_all'\n",
    "distance_between_pts_along_ridges = 25   # km\n",
    "\n",
    "plot_MOR(selection_name                    = selection_name,\n",
    "         distance_between_pts_along_ridges = distance_between_pts_along_ridges,\n",
    "         savefig                           = False)"
   ]
  },
  {
   "cell_type": "code",
   "execution_count": null,
   "metadata": {},
   "outputs": [],
   "source": [
    "# MOR elevation distribution far from hotspots\n",
    "\n",
    "%matplotlib widget\n",
    "\n",
    "selection_name                    = 'MOR_pts_far_from_hs'\n",
    "distance_between_pts_along_ridges = 25   # km\n",
    "\n",
    "plot_histo_elev_MOR(selection_name=selection_name,\n",
    "                    distance_between_pts_along_ridges = distance_between_pts_along_ridges,\n",
    "                    sigmamodel=250,\n",
    "                    meanmodel=-2750,\n",
    "                    savefig  = False)"
   ]
  },
  {
   "cell_type": "code",
   "execution_count": null,
   "metadata": {},
   "outputs": [],
   "source": [
    "# MOR elevation distribution close to hotspots\n",
    "\n",
    "%matplotlib widget\n",
    "\n",
    "selection_name                    = 'MOR_pts_close_to_hs'\n",
    "distance_between_pts_along_ridges = 25   # km\n",
    "\n",
    "plot_histo_elev_MOR(selection_name=selection_name,\n",
    "                    distance_between_pts_along_ridges = distance_between_pts_along_ridges,\n",
    "                    sigmamodel=150,\n",
    "                    meanmodel=-2550,\n",
    "                    savefig  = False)"
   ]
  },
  {
   "cell_type": "code",
   "execution_count": null,
   "metadata": {},
   "outputs": [],
   "source": [
    "# MOR elevation versus spreading rate\n",
    "\n",
    "%matplotlib widget\n",
    "\n",
    "selection_name  ='MOR_pts_far_from_hs'\n",
    "\n",
    "plot_correlation_elev_spreading_rate(selection_name=selection_name,\n",
    "                                     distance_between_pts_along_ridges = distance_between_pts_along_ridges,\n",
    "                                     savefig  = False)"
   ]
  },
  {
   "cell_type": "code",
   "execution_count": null,
   "metadata": {},
   "outputs": [],
   "source": [
    "# Plot some bathymetric profiles along MOR (Some are shown on Fig. 3)\n",
    "\n",
    "%matplotlib widget\n",
    "\n",
    "plot_MOR_profile(name='all',use_fixed_width=True,width=300000,xlim=[0,300],ylim=[-4500,-1500])\n"
   ]
  },
  {
   "cell_type": "code",
   "execution_count": null,
   "metadata": {},
   "outputs": [],
   "source": []
  }
 ],
 "metadata": {
  "kernelspec": {
   "display_name": "Python 3 (ipykernel)",
   "language": "python",
   "name": "python3"
  },
  "language_info": {
   "codemirror_mode": {
    "name": "ipython",
    "version": 3
   },
   "file_extension": ".py",
   "mimetype": "text/x-python",
   "name": "python",
   "nbconvert_exporter": "python",
   "pygments_lexer": "ipython3",
   "version": "3.8.12"
  }
 },
 "nbformat": 4,
 "nbformat_minor": 4
}
