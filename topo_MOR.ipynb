{
 "cells": [
  {
   "cell_type": "markdown",
   "metadata": {},
   "source": [
    "[Back to the starting page](start.ipynb)"
   ]
  },
  {
   "cell_type": "code",
   "execution_count": 1,
   "metadata": {},
   "outputs": [],
   "source": [
    "from scripts import *"
   ]
  },
  {
   "cell_type": "code",
   "execution_count": 2,
   "metadata": {},
   "outputs": [
    {
     "name": "stdout",
     "output_type": "stream",
     "text": [
      "This selection already exists (./data/topography/./MOR_pts_far_from_hs_25km.dat)\n",
      "Total defined pts along MOR = 5960 \n"
     ]
    }
   ],
   "source": [
    "# Define points that are localized along active mid-ocean ridges (MOR) based on the analysis of \n",
    "# 2 arc-minutes grid (one point every ~3.7 km). For each point we extract the elevation and spreading rate of the MOR.\n",
    "# \n",
    "# !!! Computation is very slow - Done for 1 point every 25 km along MOR\n",
    "#\n",
    "\n",
    "#selection_name  ='MOR_pts_all'\n",
    "selection_name  ='MOR_pts_far_from_hs'\n",
    "#selection_name  ='MOR_pts_close_to_hs'\n",
    "\n",
    "distance_between_pts_along_ridges = 25   # km\n",
    "\n",
    "define_MOR_pts(selection_name                    = selection_name,\n",
    "               distance_between_pts_along_ridges = distance_between_pts_along_ridges)"
   ]
  },
  {
   "cell_type": "code",
   "execution_count": 3,
   "metadata": {},
   "outputs": [
    {
     "data": {
      "application/vnd.jupyter.widget-view+json": {
       "model_id": "f456c5e8ba1843c299c25dba48f91a96",
       "version_major": 2,
       "version_minor": 0
      },
      "text/plain": [
       "Canvas(toolbar=Toolbar(toolitems=[('Home', 'Reset original view', 'home', 'home'), ('Back', 'Back to previous …"
      ]
     },
     "metadata": {},
     "output_type": "display_data"
    }
   ],
   "source": [
    "# Plot elevation along MOR - small blue points shows the location of the profiles displayed below\n",
    "\n",
    "%matplotlib widget\n",
    "\n",
    "selection_name                    = 'MOR_pts_far_from_hs'\n",
    "distance_between_pts_along_ridges = 25   # km\n",
    "\n",
    "plot_MOR(selection_name                    = selection_name,\n",
    "         distance_between_pts_along_ridges = distance_between_pts_along_ridges)"
   ]
  },
  {
   "cell_type": "code",
   "execution_count": 4,
   "metadata": {},
   "outputs": [
    {
     "data": {
      "application/vnd.jupyter.widget-view+json": {
       "model_id": "c7bd5bde35dd4002ab9192a7336f890d",
       "version_major": 2,
       "version_minor": 0
      },
      "text/plain": [
       "Canvas(toolbar=Toolbar(toolitems=[('Home', 'Reset original view', 'home', 'home'), ('Back', 'Back to previous …"
      ]
     },
     "metadata": {},
     "output_type": "display_data"
    }
   ],
   "source": [
    "# MOR elevation distribution far from hotspots\n",
    "\n",
    "%matplotlib widget\n",
    "\n",
    "selection_name                    = 'MOR_pts_far_from_hs'\n",
    "distance_between_pts_along_ridges = 25   # km\n",
    "\n",
    "plot_histo_elev_MOR(selection_name=selection_name,\n",
    "                    distance_between_pts_along_ridges = distance_between_pts_along_ridges,\n",
    "                    sigmamodel=250,\n",
    "                    meanmodel=-2750)"
   ]
  },
  {
   "cell_type": "code",
   "execution_count": 5,
   "metadata": {},
   "outputs": [
    {
     "data": {
      "application/vnd.jupyter.widget-view+json": {
       "model_id": "d0bffd3541204774ae2c9186cd7cde1e",
       "version_major": 2,
       "version_minor": 0
      },
      "text/plain": [
       "Canvas(toolbar=Toolbar(toolitems=[('Home', 'Reset original view', 'home', 'home'), ('Back', 'Back to previous …"
      ]
     },
     "metadata": {},
     "output_type": "display_data"
    }
   ],
   "source": [
    "# MOR elevation distribution close to hotspots\n",
    "\n",
    "%matplotlib widget\n",
    "\n",
    "selection_name                    = 'MOR_pts_close_to_hs'\n",
    "distance_between_pts_along_ridges = 25   # km\n",
    "\n",
    "plot_histo_elev_MOR(selection_name=selection_name,\n",
    "                    distance_between_pts_along_ridges = distance_between_pts_along_ridges,\n",
    "                    sigmamodel=150,\n",
    "                    meanmodel=-2550)"
   ]
  },
  {
   "cell_type": "code",
   "execution_count": 6,
   "metadata": {},
   "outputs": [
    {
     "data": {
      "application/vnd.jupyter.widget-view+json": {
       "model_id": "f1f61dbd0f214a778ed4179b4e4005b0",
       "version_major": 2,
       "version_minor": 0
      },
      "text/plain": [
       "Canvas(toolbar=Toolbar(toolitems=[('Home', 'Reset original view', 'home', 'home'), ('Back', 'Back to previous …"
      ]
     },
     "metadata": {},
     "output_type": "display_data"
    }
   ],
   "source": [
    "# MOR elevation versus spreading rate\n",
    "\n",
    "%matplotlib widget\n",
    "\n",
    "selection_name  ='MOR_pts_far_from_hs'\n",
    "\n",
    "plot_correlation_elev_spreading_rate(selection_name=selection_name,\n",
    "                                     distance_between_pts_along_ridges = distance_between_pts_along_ridges)"
   ]
  },
  {
   "cell_type": "code",
   "execution_count": 7,
   "metadata": {},
   "outputs": [
    {
     "name": "stdout",
     "output_type": "stream",
     "text": [
      "ETOPO 1 m (ETOPO1_Bed_g_gmt4_filtered.grd) min/max -9500.0 6065.0\n",
      "Unfiltered raw 1 arc-min ETOPO1 dataset not available (check if you have downloaded FigShare Dataset) - Not available on Binder (./data/topography/ETOPO1_Bed_g_gmt4.grd)\n",
      "Full seafloor spreading rate (Muller et al, 2008) cm/yr min/max 0.0 30.0\n",
      "Seafloor age (Muller et al, 2008) Myrs min/max 0.0 278.9200134277344\n",
      "-----------------------\n",
      "MAR_05N\n",
      "-----------------------\n",
      "High-resolution regional dataset not available (check if you have downloaded FigShare Dataset) - Not available on Binder (./data/topography/GMRT3.6/MAR_05N_topo-mask.grd)\n"
     ]
    },
    {
     "data": {
      "application/vnd.jupyter.widget-view+json": {
       "model_id": "e0b15be7bb0b426ea2bdc3b3dabd95d1",
       "version_major": 2,
       "version_minor": 0
      },
      "text/plain": [
       "Canvas(toolbar=Toolbar(toolitems=[('Home', 'Reset original view', 'home', 'home'), ('Back', 'Back to previous …"
      ]
     },
     "metadata": {},
     "output_type": "display_data"
    },
    {
     "name": "stdout",
     "output_type": "stream",
     "text": [
      "-----------------------\n",
      "MAR_12S\n",
      "-----------------------\n",
      "High-resolution regional dataset not available (check if you have downloaded FigShare Dataset) - Not available on Binder (./data/topography/GMRT3.6/MAR_12S_topo-mask.grd)\n"
     ]
    },
    {
     "data": {
      "application/vnd.jupyter.widget-view+json": {
       "model_id": "0b576dc9a50a48e7892e1c32aed096fa",
       "version_major": 2,
       "version_minor": 0
      },
      "text/plain": [
       "Canvas(toolbar=Toolbar(toolitems=[('Home', 'Reset original view', 'home', 'home'), ('Back', 'Back to previous …"
      ]
     },
     "metadata": {},
     "output_type": "display_data"
    },
    {
     "name": "stdout",
     "output_type": "stream",
     "text": [
      "-----------------------\n",
      "MAR_22N\n",
      "-----------------------\n",
      "High-resolution regional dataset not available (check if you have downloaded FigShare Dataset) - Not available on Binder (./data/topography/GMRT3.6/MAR_22N_topo-mask.grd)\n"
     ]
    },
    {
     "data": {
      "application/vnd.jupyter.widget-view+json": {
       "model_id": "9f6176b2ad8649faa9349e679ca9be5a",
       "version_major": 2,
       "version_minor": 0
      },
      "text/plain": [
       "Canvas(toolbar=Toolbar(toolitems=[('Home', 'Reset original view', 'home', 'home'), ('Back', 'Back to previous …"
      ]
     },
     "metadata": {},
     "output_type": "display_data"
    },
    {
     "name": "stdout",
     "output_type": "stream",
     "text": [
      "-----------------------\n",
      "MAR_27N\n",
      "-----------------------\n",
      "High-resolution regional dataset not available (check if you have downloaded FigShare Dataset) - Not available on Binder (./data/topography/GMRT3.6/MAR_27N_topo-mask.grd)\n"
     ]
    },
    {
     "data": {
      "application/vnd.jupyter.widget-view+json": {
       "model_id": "92913a6dfc4340518a0a686bd649d3cd",
       "version_major": 2,
       "version_minor": 0
      },
      "text/plain": [
       "Canvas(toolbar=Toolbar(toolitems=[('Home', 'Reset original view', 'home', 'home'), ('Back', 'Back to previous …"
      ]
     },
     "metadata": {},
     "output_type": "display_data"
    },
    {
     "name": "stdout",
     "output_type": "stream",
     "text": [
      "-----------------------\n",
      "MAR_30S\n",
      "-----------------------\n",
      "High-resolution regional dataset not available (check if you have downloaded FigShare Dataset) - Not available on Binder (./data/topography/GMRT3.6/MAR_30S_topo-mask.grd)\n"
     ]
    },
    {
     "data": {
      "application/vnd.jupyter.widget-view+json": {
       "model_id": "40f1963e80a34088b79bf0d15a7644db",
       "version_major": 2,
       "version_minor": 0
      },
      "text/plain": [
       "Canvas(toolbar=Toolbar(toolitems=[('Home', 'Reset original view', 'home', 'home'), ('Back', 'Back to previous …"
      ]
     },
     "metadata": {},
     "output_type": "display_data"
    },
    {
     "name": "stdout",
     "output_type": "stream",
     "text": [
      "-----------------------\n",
      "MAR_46S\n",
      "-----------------------\n",
      "High-resolution regional dataset not available (check if you have downloaded FigShare Dataset) - Not available on Binder (./data/topography/GMRT3.6/MAR_46S_topo-mask.grd)\n"
     ]
    },
    {
     "data": {
      "application/vnd.jupyter.widget-view+json": {
       "model_id": "b24a59e5dbb846b7be53f70e1a71bed9",
       "version_major": 2,
       "version_minor": 0
      },
      "text/plain": [
       "Canvas(toolbar=Toolbar(toolitems=[('Home', 'Reset original view', 'home', 'home'), ('Back', 'Back to previous …"
      ]
     },
     "metadata": {},
     "output_type": "display_data"
    },
    {
     "name": "stdout",
     "output_type": "stream",
     "text": [
      "-----------------------\n",
      "MAR_57N\n",
      "-----------------------\n",
      "High-resolution regional dataset not available (check if you have downloaded FigShare Dataset) - Not available on Binder (./data/topography/GMRT3.6/MAR_57N_topo-mask.grd)\n"
     ]
    },
    {
     "data": {
      "application/vnd.jupyter.widget-view+json": {
       "model_id": "af32d011898f4a6c86ec3b9edbc95751",
       "version_major": 2,
       "version_minor": 0
      },
      "text/plain": [
       "Canvas(toolbar=Toolbar(toolitems=[('Home', 'Reset original view', 'home', 'home'), ('Back', 'Back to previous …"
      ]
     },
     "metadata": {},
     "output_type": "display_data"
    },
    {
     "name": "stdout",
     "output_type": "stream",
     "text": [
      "-----------------------\n",
      "EPR_10N\n",
      "-----------------------\n",
      "High-resolution regional dataset not available (check if you have downloaded FigShare Dataset) - Not available on Binder (./data/topography/GMRT3.6/EPR_10N_topo-mask.grd)\n"
     ]
    },
    {
     "data": {
      "application/vnd.jupyter.widget-view+json": {
       "model_id": "0392fd027c904391ba2c08158f0069ec",
       "version_major": 2,
       "version_minor": 0
      },
      "text/plain": [
       "Canvas(toolbar=Toolbar(toolitems=[('Home', 'Reset original view', 'home', 'home'), ('Back', 'Back to previous …"
      ]
     },
     "metadata": {},
     "output_type": "display_data"
    },
    {
     "name": "stdout",
     "output_type": "stream",
     "text": [
      "-----------------------\n",
      "EPR_15S\n",
      "-----------------------\n",
      "High-resolution regional dataset not available (check if you have downloaded FigShare Dataset) - Not available on Binder (./data/topography/GMRT3.6/EPR_15S_topo-mask.grd)\n"
     ]
    },
    {
     "data": {
      "application/vnd.jupyter.widget-view+json": {
       "model_id": "e64c887b156c454ba4982870dcdbed19",
       "version_major": 2,
       "version_minor": 0
      },
      "text/plain": [
       "Canvas(toolbar=Toolbar(toolitems=[('Home', 'Reset original view', 'home', 'home'), ('Back', 'Back to previous …"
      ]
     },
     "metadata": {},
     "output_type": "display_data"
    },
    {
     "name": "stdout",
     "output_type": "stream",
     "text": [
      "-----------------------\n",
      "EPR_40S\n",
      "-----------------------\n",
      "High-resolution regional dataset not available (check if you have downloaded FigShare Dataset) - Not available on Binder (./data/topography/GMRT3.6/EPR_40S_topo-mask.grd)\n"
     ]
    },
    {
     "data": {
      "application/vnd.jupyter.widget-view+json": {
       "model_id": "c4bb8c628a97414eb63ff45df7952953",
       "version_major": 2,
       "version_minor": 0
      },
      "text/plain": [
       "Canvas(toolbar=Toolbar(toolitems=[('Home', 'Reset original view', 'home', 'home'), ('Back', 'Back to previous …"
      ]
     },
     "metadata": {},
     "output_type": "display_data"
    },
    {
     "name": "stdout",
     "output_type": "stream",
     "text": [
      "-----------------------\n",
      "EPR_65S\n",
      "-----------------------\n",
      "High-resolution regional dataset not available (check if you have downloaded FigShare Dataset) - Not available on Binder (./data/topography/GMRT3.6/EPR_65S_topo-mask.grd)\n"
     ]
    },
    {
     "data": {
      "application/vnd.jupyter.widget-view+json": {
       "model_id": "6ce8d098efe6485caef0a18a3fdf63ef",
       "version_major": 2,
       "version_minor": 0
      },
      "text/plain": [
       "Canvas(toolbar=Toolbar(toolitems=[('Home', 'Reset original view', 'home', 'home'), ('Back', 'Back to previous …"
      ]
     },
     "metadata": {},
     "output_type": "display_data"
    },
    {
     "name": "stdout",
     "output_type": "stream",
     "text": [
      "-----------------------\n",
      "SEIR_110E\n",
      "-----------------------\n",
      "High-resolution regional dataset not available (check if you have downloaded FigShare Dataset) - Not available on Binder (./data/topography/GMRT3.6/SEIR_110E_topo-mask.grd)\n"
     ]
    },
    {
     "data": {
      "application/vnd.jupyter.widget-view+json": {
       "model_id": "4f9032d1e374434484100796f0cf2c31",
       "version_major": 2,
       "version_minor": 0
      },
      "text/plain": [
       "Canvas(toolbar=Toolbar(toolitems=[('Home', 'Reset original view', 'home', 'home'), ('Back', 'Back to previous …"
      ]
     },
     "metadata": {},
     "output_type": "display_data"
    },
    {
     "name": "stdout",
     "output_type": "stream",
     "text": [
      "-----------------------\n",
      "SEIR_91E\n",
      "-----------------------\n",
      "High-resolution regional dataset not available (check if you have downloaded FigShare Dataset) - Not available on Binder (./data/topography/GMRT3.6/SEIR_91E_topo-mask.grd)\n"
     ]
    },
    {
     "data": {
      "application/vnd.jupyter.widget-view+json": {
       "model_id": "b84afb2f408544859b9f9a11a7f452e4",
       "version_major": 2,
       "version_minor": 0
      },
      "text/plain": [
       "Canvas(toolbar=Toolbar(toolitems=[('Home', 'Reset original view', 'home', 'home'), ('Back', 'Back to previous …"
      ]
     },
     "metadata": {},
     "output_type": "display_data"
    },
    {
     "name": "stdout",
     "output_type": "stream",
     "text": [
      "-----------------------\n",
      "CIR_2N\n",
      "-----------------------\n",
      "High-resolution regional dataset not available (check if you have downloaded FigShare Dataset) - Not available on Binder (./data/topography/GMRT3.6/SEIR_91E_topo-mask.grd)\n"
     ]
    },
    {
     "data": {
      "application/vnd.jupyter.widget-view+json": {
       "model_id": "89afb169c8af452faf4932bdba5fb5f5",
       "version_major": 2,
       "version_minor": 0
      },
      "text/plain": [
       "Canvas(toolbar=Toolbar(toolitems=[('Home', 'Reset original view', 'home', 'home'), ('Back', 'Back to previous …"
      ]
     },
     "metadata": {},
     "output_type": "display_data"
    },
    {
     "name": "stdout",
     "output_type": "stream",
     "text": [
      "-----------------------\n",
      "CIR_11S\n",
      "-----------------------\n",
      "High-resolution regional dataset not available (check if you have downloaded FigShare Dataset) - Not available on Binder (./data/topography/GMRT3.6/SEIR_91E_topo-mask.grd)\n"
     ]
    },
    {
     "data": {
      "application/vnd.jupyter.widget-view+json": {
       "model_id": "ba196999318a433bbb57c2f10a06ed29",
       "version_major": 2,
       "version_minor": 0
      },
      "text/plain": [
       "Canvas(toolbar=Toolbar(toolitems=[('Home', 'Reset original view', 'home', 'home'), ('Back', 'Back to previous …"
      ]
     },
     "metadata": {},
     "output_type": "display_data"
    },
    {
     "name": "stdout",
     "output_type": "stream",
     "text": [
      "-----------------------\n",
      "SWIR_24E\n",
      "-----------------------\n",
      "High-resolution regional dataset not available (check if you have downloaded FigShare Dataset) - Not available on Binder (./data/topography/GMRT3.6/SWIR_24E_topo-mask.grd)\n"
     ]
    },
    {
     "data": {
      "application/vnd.jupyter.widget-view+json": {
       "model_id": "cae26c4848f445ffab1c63addaa3a58c",
       "version_major": 2,
       "version_minor": 0
      },
      "text/plain": [
       "Canvas(toolbar=Toolbar(toolitems=[('Home', 'Reset original view', 'home', 'home'), ('Back', 'Back to previous …"
      ]
     },
     "metadata": {},
     "output_type": "display_data"
    },
    {
     "name": "stdout",
     "output_type": "stream",
     "text": [
      "-----------------------\n",
      "ARC_24E\n",
      "-----------------------\n",
      "High-resolution regional dataset not available (check if you have downloaded FigShare Dataset) - Not available on Binder (./data/topography/none)\n"
     ]
    },
    {
     "data": {
      "application/vnd.jupyter.widget-view+json": {
       "model_id": "9efd699b02824e67a35ff16fa2081204",
       "version_major": 2,
       "version_minor": 0
      },
      "text/plain": [
       "Canvas(toolbar=Toolbar(toolitems=[('Home', 'Reset original view', 'home', 'home'), ('Back', 'Back to previous …"
      ]
     },
     "metadata": {},
     "output_type": "display_data"
    }
   ],
   "source": [
    "# Plot some bathymetric profiles along MOR (Some are shown on Fig. 3)\n",
    "\n",
    "%matplotlib widget\n",
    "\n",
    "plot_MOR_profile(name='all',use_fixed_width=True,width=300000,xlim=[0,300],ylim=[-4500,-1500])\n"
   ]
  },
  {
   "cell_type": "code",
   "execution_count": null,
   "metadata": {},
   "outputs": [],
   "source": []
  }
 ],
 "metadata": {
  "kernelspec": {
   "display_name": "Python 3 (ipykernel)",
   "language": "python",
   "name": "python3"
  },
  "language_info": {
   "codemirror_mode": {
    "name": "ipython",
    "version": 3
   },
   "file_extension": ".py",
   "mimetype": "text/x-python",
   "name": "python",
   "nbconvert_exporter": "python",
   "pygments_lexer": "ipython3",
   "version": "3.8.12"
  }
 },
 "nbformat": 4,
 "nbformat_minor": 4
}
