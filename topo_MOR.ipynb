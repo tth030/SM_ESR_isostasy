{
 "cells": [
  {
   "cell_type": "markdown",
   "metadata": {},
   "source": [
    "[Back to the starting page](start.ipynb)"
   ]
  },
  {
   "cell_type": "code",
   "execution_count": 8,
   "metadata": {},
   "outputs": [],
   "source": [
    "from scripts import *"
   ]
  },
  {
   "cell_type": "code",
   "execution_count": 9,
   "metadata": {},
   "outputs": [
    {
     "name": "stdout",
     "output_type": "stream",
     "text": [
      "This selection already exists (./data/topography/./MOR_pts_far_from_hs_25km.dat)\n",
      "Total defined pts along MOR = 5960 \n"
     ]
    }
   ],
   "source": [
    "# Define points that are localized along active mid-ocean ridges (MOR) based on the analysis of \n",
    "# 2 arc-minutes grid (one point every ~3.7 km). For each point we extract the elevation and spreading rate of the MOR.\n",
    "# \n",
    "# !!! Computation is very slow - Done for 1 point every 25 km along MOR\n",
    "#\n",
    "\n",
    "#selection_name  ='MOR_pts_all'\n",
    "selection_name  ='MOR_pts_far_from_hs'\n",
    "#selection_name  ='MOR_pts_close_to_hs'\n",
    "\n",
    "distance_between_pts_along_ridges = 25   # km\n",
    "\n",
    "define_MOR_pts(selection_name                    = selection_name,\n",
    "               distance_between_pts_along_ridges = distance_between_pts_along_ridges)"
   ]
  },
  {
   "cell_type": "code",
   "execution_count": 10,
   "metadata": {},
   "outputs": [
    {
     "data": {
      "application/vnd.jupyter.widget-view+json": {
       "model_id": "b98eb3a0cfb54f51b37387cf6af8ff46",
       "version_major": 2,
       "version_minor": 0
      },
      "text/plain": [
       "Canvas(toolbar=Toolbar(toolitems=[('Home', 'Reset original view', 'home', 'home'), ('Back', 'Back to previous …"
      ]
     },
     "metadata": {},
     "output_type": "display_data"
    }
   ],
   "source": [
    "# Plot elevation along MOR - small blue points shows the location of the profiles displayed below\n",
    "\n",
    "%matplotlib widget\n",
    "\n",
    "selection_name                    = 'MOR_pts_far_from_hs'\n",
    "distance_between_pts_along_ridges = 25   # km\n",
    "\n",
    "plot_MOR(selection_name                    = selection_name,\n",
    "         distance_between_pts_along_ridges = distance_between_pts_along_ridges)"
   ]
  },
  {
   "cell_type": "code",
   "execution_count": 11,
   "metadata": {},
   "outputs": [
    {
     "data": {
      "application/vnd.jupyter.widget-view+json": {
       "model_id": "7e180901f63e4efda39ceaf57a4e46b4",
       "version_major": 2,
       "version_minor": 0
      },
      "text/plain": [
       "Canvas(toolbar=Toolbar(toolitems=[('Home', 'Reset original view', 'home', 'home'), ('Back', 'Back to previous …"
      ]
     },
     "metadata": {},
     "output_type": "display_data"
    }
   ],
   "source": [
    "# MOR elevation distribution far from hotspots\n",
    "\n",
    "%matplotlib widget\n",
    "\n",
    "selection_name                    = 'MOR_pts_far_from_hs'\n",
    "distance_between_pts_along_ridges = 25   # km\n",
    "\n",
    "plot_histo_elev_MOR(selection_name=selection_name,\n",
    "                    distance_between_pts_along_ridges = distance_between_pts_along_ridges,\n",
    "                    sigmamodel=250,\n",
    "                    meanmodel=-2750)"
   ]
  },
  {
   "cell_type": "code",
   "execution_count": 12,
   "metadata": {},
   "outputs": [
    {
     "data": {
      "application/vnd.jupyter.widget-view+json": {
       "model_id": "ef583075a9d1495ebafb96b3d95d2c72",
       "version_major": 2,
       "version_minor": 0
      },
      "text/plain": [
       "Canvas(toolbar=Toolbar(toolitems=[('Home', 'Reset original view', 'home', 'home'), ('Back', 'Back to previous …"
      ]
     },
     "metadata": {},
     "output_type": "display_data"
    }
   ],
   "source": [
    "# MOR elevation distribution close to hotspots\n",
    "\n",
    "%matplotlib widget\n",
    "\n",
    "selection_name                    = 'MOR_pts_close_to_hs'\n",
    "distance_between_pts_along_ridges = 25   # km\n",
    "\n",
    "plot_histo_elev_MOR(selection_name=selection_name,\n",
    "                    distance_between_pts_along_ridges = distance_between_pts_along_ridges,\n",
    "                    sigmamodel=150,\n",
    "                    meanmodel=-2550)"
   ]
  },
  {
   "cell_type": "code",
   "execution_count": 13,
   "metadata": {},
   "outputs": [
    {
     "data": {
      "application/vnd.jupyter.widget-view+json": {
       "model_id": "6557fd02b1ae48c89e7659740b11290b",
       "version_major": 2,
       "version_minor": 0
      },
      "text/plain": [
       "Canvas(toolbar=Toolbar(toolitems=[('Home', 'Reset original view', 'home', 'home'), ('Back', 'Back to previous …"
      ]
     },
     "metadata": {},
     "output_type": "display_data"
    }
   ],
   "source": [
    "# MOR elevation versus spreading rate\n",
    "\n",
    "%matplotlib widget\n",
    "\n",
    "selection_name  ='MOR_pts_far_from_hs'\n",
    "\n",
    "plot_correlation_elev_spreading_rate(selection_name=selection_name,\n",
    "                                     distance_between_pts_along_ridges = distance_between_pts_along_ridges)"
   ]
  },
  {
   "cell_type": "code",
   "execution_count": 14,
   "metadata": {},
   "outputs": [
    {
     "name": "stdout",
     "output_type": "stream",
     "text": [
      "ETOPO 1 m min/max -9500.0 6065.0\n",
      "ETOPO 1 m min/max -10898.0 8271.0\n",
      "Full seafloor spreading rate (Muller et al, 2008) cm/yr min/max 0.0 30.0\n",
      "Seafloor age (Muller et al, 2008) Myrs min/max 0.0 278.92\n",
      "-----------------------\n",
      "MAR_05N\n",
      "-----------------------\n",
      "Elevation (GMRT3.6) m min/max -5359.4169921875 -87.58250427246094\n"
     ]
    },
    {
     "data": {
      "application/vnd.jupyter.widget-view+json": {
       "model_id": "3fa2ba390a6e431e94bbf707d063ea2b",
       "version_major": 2,
       "version_minor": 0
      },
      "text/plain": [
       "Canvas(toolbar=Toolbar(toolitems=[('Home', 'Reset original view', 'home', 'home'), ('Back', 'Back to previous …"
      ]
     },
     "metadata": {},
     "output_type": "display_data"
    },
    {
     "name": "stdout",
     "output_type": "stream",
     "text": [
      "-----------------------\n",
      "MAR_12S\n",
      "-----------------------\n",
      "Elevation (GMRT3.6) m min/max -4361.00732421875 -1762.7913818359375\n"
     ]
    },
    {
     "data": {
      "application/vnd.jupyter.widget-view+json": {
       "model_id": "d2847e52d3694d128b5209be91f47d75",
       "version_major": 2,
       "version_minor": 0
      },
      "text/plain": [
       "Canvas(toolbar=Toolbar(toolitems=[('Home', 'Reset original view', 'home', 'home'), ('Back', 'Back to previous …"
      ]
     },
     "metadata": {},
     "output_type": "display_data"
    },
    {
     "name": "stdout",
     "output_type": "stream",
     "text": [
      "-----------------------\n",
      "MAR_22N\n",
      "-----------------------\n",
      "Elevation (GMRT3.6) m min/max -6146.677734375 -1045.2330322265625\n"
     ]
    },
    {
     "data": {
      "application/vnd.jupyter.widget-view+json": {
       "model_id": "e7834d3d7a7146d8a0e6671e499af3f5",
       "version_major": 2,
       "version_minor": 0
      },
      "text/plain": [
       "Canvas(toolbar=Toolbar(toolitems=[('Home', 'Reset original view', 'home', 'home'), ('Back', 'Back to previous …"
      ]
     },
     "metadata": {},
     "output_type": "display_data"
    },
    {
     "name": "stdout",
     "output_type": "stream",
     "text": [
      "-----------------------\n",
      "MAR_27N\n",
      "-----------------------\n",
      "Elevation (GMRT3.6) m min/max -6109.36767578125 -1047.3751220703125\n"
     ]
    },
    {
     "data": {
      "application/vnd.jupyter.widget-view+json": {
       "model_id": "59e91ae7888c4e42a97842a4d3444b4f",
       "version_major": 2,
       "version_minor": 0
      },
      "text/plain": [
       "Canvas(toolbar=Toolbar(toolitems=[('Home', 'Reset original view', 'home', 'home'), ('Back', 'Back to previous …"
      ]
     },
     "metadata": {},
     "output_type": "display_data"
    },
    {
     "name": "stdout",
     "output_type": "stream",
     "text": [
      "-----------------------\n",
      "MAR_30S\n",
      "-----------------------\n",
      "Elevation (GMRT3.6) m min/max -5058.49365234375 -1673.3297119140625\n"
     ]
    },
    {
     "data": {
      "application/vnd.jupyter.widget-view+json": {
       "model_id": "227a891c12fd47d09b50a331741f88ee",
       "version_major": 2,
       "version_minor": 0
      },
      "text/plain": [
       "Canvas(toolbar=Toolbar(toolitems=[('Home', 'Reset original view', 'home', 'home'), ('Back', 'Back to previous …"
      ]
     },
     "metadata": {},
     "output_type": "display_data"
    },
    {
     "name": "stdout",
     "output_type": "stream",
     "text": [
      "-----------------------\n",
      "MAR_46S\n",
      "-----------------------\n",
      "Elevation (GMRT3.6) m min/max -5318.88671875 -476.70684814453125\n"
     ]
    },
    {
     "data": {
      "application/vnd.jupyter.widget-view+json": {
       "model_id": "960af6cfd36b44d2a414c109d3626469",
       "version_major": 2,
       "version_minor": 0
      },
      "text/plain": [
       "Canvas(toolbar=Toolbar(toolitems=[('Home', 'Reset original view', 'home', 'home'), ('Back', 'Back to previous …"
      ]
     },
     "metadata": {},
     "output_type": "display_data"
    },
    {
     "name": "stdout",
     "output_type": "stream",
     "text": [
      "-----------------------\n",
      "MAR_57N\n",
      "-----------------------\n",
      "Elevation (GMRT3.6) m min/max -3259.99560546875 -431.6437072753906\n"
     ]
    },
    {
     "data": {
      "application/vnd.jupyter.widget-view+json": {
       "model_id": "1a388d259064400888f8432b0a08bdbc",
       "version_major": 2,
       "version_minor": 0
      },
      "text/plain": [
       "Canvas(toolbar=Toolbar(toolitems=[('Home', 'Reset original view', 'home', 'home'), ('Back', 'Back to previous …"
      ]
     },
     "metadata": {},
     "output_type": "display_data"
    },
    {
     "name": "stdout",
     "output_type": "stream",
     "text": [
      "-----------------------\n",
      "EPR_10N\n",
      "-----------------------\n",
      "Elevation (GMRT3.6) m min/max -4351.68798828125 5398.15625\n"
     ]
    },
    {
     "data": {
      "application/vnd.jupyter.widget-view+json": {
       "model_id": "2347cbe5a66b4605906b5f4d2093c77b",
       "version_major": 2,
       "version_minor": 0
      },
      "text/plain": [
       "Canvas(toolbar=Toolbar(toolitems=[('Home', 'Reset original view', 'home', 'home'), ('Back', 'Back to previous …"
      ]
     },
     "metadata": {},
     "output_type": "display_data"
    },
    {
     "name": "stdout",
     "output_type": "stream",
     "text": [
      "-----------------------\n",
      "EPR_15S\n",
      "-----------------------\n",
      "Elevation (GMRT3.6) m min/max -6753.68212890625 -1176.3121337890625\n"
     ]
    },
    {
     "data": {
      "application/vnd.jupyter.widget-view+json": {
       "model_id": "bb8da111c22247d0a7f3c2ae0d61af78",
       "version_major": 2,
       "version_minor": 0
      },
      "text/plain": [
       "Canvas(toolbar=Toolbar(toolitems=[('Home', 'Reset original view', 'home', 'home'), ('Back', 'Back to previous …"
      ]
     },
     "metadata": {},
     "output_type": "display_data"
    },
    {
     "name": "stdout",
     "output_type": "stream",
     "text": [
      "-----------------------\n",
      "EPR_40S\n",
      "-----------------------\n",
      "Elevation (GMRT3.6) m min/max -5678.2734375 -1157.98291015625\n"
     ]
    },
    {
     "data": {
      "application/vnd.jupyter.widget-view+json": {
       "model_id": "0d4bd560445e45c89be92f9c973f08aa",
       "version_major": 2,
       "version_minor": 0
      },
      "text/plain": [
       "Canvas(toolbar=Toolbar(toolitems=[('Home', 'Reset original view', 'home', 'home'), ('Back', 'Back to previous …"
      ]
     },
     "metadata": {},
     "output_type": "display_data"
    },
    {
     "name": "stdout",
     "output_type": "stream",
     "text": [
      "-----------------------\n",
      "EPR_65S\n",
      "-----------------------\n",
      "Elevation (GMRT3.6) m min/max -4506.51806640625 -712.699462890625\n"
     ]
    },
    {
     "data": {
      "application/vnd.jupyter.widget-view+json": {
       "model_id": "50391494d8e14ae0866c7700d063702e",
       "version_major": 2,
       "version_minor": 0
      },
      "text/plain": [
       "Canvas(toolbar=Toolbar(toolitems=[('Home', 'Reset original view', 'home', 'home'), ('Back', 'Back to previous …"
      ]
     },
     "metadata": {},
     "output_type": "display_data"
    },
    {
     "name": "stdout",
     "output_type": "stream",
     "text": [
      "-----------------------\n",
      "SEIR_110E\n",
      "-----------------------\n",
      "Elevation (GMRT3.6) m min/max -5035.38818359375 -2031.794921875\n"
     ]
    },
    {
     "data": {
      "application/vnd.jupyter.widget-view+json": {
       "model_id": "4e67bc896f5a4648b49ef343f8fe31b7",
       "version_major": 2,
       "version_minor": 0
      },
      "text/plain": [
       "Canvas(toolbar=Toolbar(toolitems=[('Home', 'Reset original view', 'home', 'home'), ('Back', 'Back to previous …"
      ]
     },
     "metadata": {},
     "output_type": "display_data"
    },
    {
     "name": "stdout",
     "output_type": "stream",
     "text": [
      "-----------------------\n",
      "SEIR_91E\n",
      "-----------------------\n",
      "Elevation (GMRT3.6) m min/max -3196.634033203125 -1135.68310546875\n"
     ]
    },
    {
     "data": {
      "application/vnd.jupyter.widget-view+json": {
       "model_id": "106e9047b2564db5b9cdc691164e8aa6",
       "version_major": 2,
       "version_minor": 0
      },
      "text/plain": [
       "Canvas(toolbar=Toolbar(toolitems=[('Home', 'Reset original view', 'home', 'home'), ('Back', 'Back to previous …"
      ]
     },
     "metadata": {},
     "output_type": "display_data"
    },
    {
     "name": "stdout",
     "output_type": "stream",
     "text": [
      "-----------------------\n",
      "CIR_2N\n",
      "-----------------------\n",
      "Elevation (GMRT3.6) m min/max -3196.634033203125 -1135.68310546875\n"
     ]
    },
    {
     "data": {
      "application/vnd.jupyter.widget-view+json": {
       "model_id": "16ecd6f093aa465da1c6878b75dd066d",
       "version_major": 2,
       "version_minor": 0
      },
      "text/plain": [
       "Canvas(toolbar=Toolbar(toolitems=[('Home', 'Reset original view', 'home', 'home'), ('Back', 'Back to previous …"
      ]
     },
     "metadata": {},
     "output_type": "display_data"
    },
    {
     "name": "stdout",
     "output_type": "stream",
     "text": [
      "-----------------------\n",
      "CIR_11S\n",
      "-----------------------\n",
      "Elevation (GMRT3.6) m min/max -3196.634033203125 -1135.68310546875\n"
     ]
    },
    {
     "data": {
      "application/vnd.jupyter.widget-view+json": {
       "model_id": "56aeeea72eb5417d933e918abcea34ae",
       "version_major": 2,
       "version_minor": 0
      },
      "text/plain": [
       "Canvas(toolbar=Toolbar(toolitems=[('Home', 'Reset original view', 'home', 'home'), ('Back', 'Back to previous …"
      ]
     },
     "metadata": {},
     "output_type": "display_data"
    },
    {
     "name": "stdout",
     "output_type": "stream",
     "text": [
      "-----------------------\n",
      "SWIR_24E\n",
      "-----------------------\n",
      "Elevation (GMRT3.6) m min/max -5291.50927734375 -146.03347778320312\n"
     ]
    },
    {
     "data": {
      "application/vnd.jupyter.widget-view+json": {
       "model_id": "1b73264012e14da8b395e46fb288e867",
       "version_major": 2,
       "version_minor": 0
      },
      "text/plain": [
       "Canvas(toolbar=Toolbar(toolitems=[('Home', 'Reset original view', 'home', 'home'), ('Back', 'Back to previous …"
      ]
     },
     "metadata": {},
     "output_type": "display_data"
    },
    {
     "name": "stdout",
     "output_type": "stream",
     "text": [
      "-----------------------\n",
      "ARC_24E\n",
      "-----------------------\n",
      "High-resolution regional dataset not available (check if you have downloaded FigShare Dataset) - Not available on Binder (./data/topography/none)\n"
     ]
    },
    {
     "data": {
      "application/vnd.jupyter.widget-view+json": {
       "model_id": "6c56c8bdaddb449ea4132c9948f3cc37",
       "version_major": 2,
       "version_minor": 0
      },
      "text/plain": [
       "Canvas(toolbar=Toolbar(toolitems=[('Home', 'Reset original view', 'home', 'home'), ('Back', 'Back to previous …"
      ]
     },
     "metadata": {},
     "output_type": "display_data"
    }
   ],
   "source": [
    "# Plot some bathymetric profiles along MOR (Some are shown on Fig. 3)\n",
    "%matplotlib widget\n",
    "plot_MOR_profile(name='all',use_fixed_width=True,width=300000,xlim=[0,300],ylim=[-4500,-1500])"
   ]
  },
  {
   "cell_type": "code",
   "execution_count": null,
   "metadata": {},
   "outputs": [],
   "source": []
  }
 ],
 "metadata": {
  "kernelspec": {
   "display_name": "Python 3 (ipykernel)",
   "language": "python",
   "name": "python3"
  },
  "language_info": {
   "codemirror_mode": {
    "name": "ipython",
    "version": 3
   },
   "file_extension": ".py",
   "mimetype": "text/x-python",
   "name": "python",
   "nbconvert_exporter": "python",
   "pygments_lexer": "ipython3",
   "version": "3.8.12"
  }
 },
 "nbformat": 4,
 "nbformat_minor": 4
}
