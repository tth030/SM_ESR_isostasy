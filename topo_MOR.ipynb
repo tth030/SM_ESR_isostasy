{
 "cells": [
  {
   "cell_type": "markdown",
   "metadata": {},
   "source": [
    "[Back to the starting page](start.ipynb)"
   ]
  },
  {
   "cell_type": "code",
   "execution_count": 1,
   "metadata": {},
   "outputs": [],
   "source": [
    "from scripts import *"
   ]
  },
  {
   "cell_type": "code",
   "execution_count": 2,
   "metadata": {},
   "outputs": [
    {
     "name": "stdout",
     "output_type": "stream",
     "text": [
      "This selection already exists (./data/topography/./MOR_pts_far_from_hs_25km.dat)\n",
      "Total defined pts along MOR = 5960 \n"
     ]
    }
   ],
   "source": [
    "# Define points that are localized along active mid-ocean ridges (MOR) based on the analysis of \n",
    "# 2 arc-minutes grid (one point every ~3.7 km). For each point we extract the elevation and spreading rate of the MOR.\n",
    "# \n",
    "# !!! Computation is very slow - Done for 1 point every 25 km along MOR\n",
    "#\n",
    "\n",
    "#selection_name  ='MOR_pts_all'\n",
    "selection_name  ='MOR_pts_far_from_hs'\n",
    "#selection_name  ='MOR_pts_close_to_hs'\n",
    "\n",
    "distance_between_pts_along_ridges = 25   # km\n",
    "\n",
    "define_MOR_pts(selection_name                    = selection_name,\n",
    "               distance_between_pts_along_ridges = distance_between_pts_along_ridges)"
   ]
  },
  {
   "cell_type": "code",
   "execution_count": 3,
   "metadata": {},
   "outputs": [
    {
     "data": {
      "application/vnd.jupyter.widget-view+json": {
       "model_id": "9095e0d62b824d3ab91f3ecd73b14965",
       "version_major": 2,
       "version_minor": 0
      },
      "text/plain": [
       "Canvas(toolbar=Toolbar(toolitems=[('Home', 'Reset original view', 'home', 'home'), ('Back', 'Back to previous …"
      ]
     },
     "metadata": {},
     "output_type": "display_data"
    }
   ],
   "source": [
    "# Plot elevation along MOR - small blue points shows the location of the profiles displayed below\n",
    "\n",
    "%matplotlib widget\n",
    "\n",
    "selection_name                    = 'MOR_pts_far_from_hs'\n",
    "distance_between_pts_along_ridges = 25   # km\n",
    "\n",
    "plot_MOR(selection_name                    = selection_name,\n",
    "         distance_between_pts_along_ridges = distance_between_pts_along_ridges)"
   ]
  },
  {
   "cell_type": "code",
   "execution_count": 4,
   "metadata": {},
   "outputs": [
    {
     "data": {
      "application/vnd.jupyter.widget-view+json": {
       "model_id": "7b155d5c51db4990b72223ae621260ef",
       "version_major": 2,
       "version_minor": 0
      },
      "text/plain": [
       "Canvas(toolbar=Toolbar(toolitems=[('Home', 'Reset original view', 'home', 'home'), ('Back', 'Back to previous …"
      ]
     },
     "metadata": {},
     "output_type": "display_data"
    }
   ],
   "source": [
    "# MOR elevation distribution far from hotspots\n",
    "\n",
    "%matplotlib widget\n",
    "\n",
    "selection_name                    = 'MOR_pts_far_from_hs'\n",
    "distance_between_pts_along_ridges = 25   # km\n",
    "\n",
    "plot_histo_elev_MOR(selection_name=selection_name,\n",
    "                    distance_between_pts_along_ridges = distance_between_pts_along_ridges,\n",
    "                    sigmamodel=250,\n",
    "                    meanmodel=-2750)"
   ]
  },
  {
   "cell_type": "code",
   "execution_count": 5,
   "metadata": {},
   "outputs": [
    {
     "data": {
      "application/vnd.jupyter.widget-view+json": {
       "model_id": "2d1faa73d732482b893b316811b93e6a",
       "version_major": 2,
       "version_minor": 0
      },
      "text/plain": [
       "Canvas(toolbar=Toolbar(toolitems=[('Home', 'Reset original view', 'home', 'home'), ('Back', 'Back to previous …"
      ]
     },
     "metadata": {},
     "output_type": "display_data"
    }
   ],
   "source": [
    "# MOR elevation distribution close to hotspots\n",
    "\n",
    "%matplotlib widget\n",
    "\n",
    "selection_name                    = 'MOR_pts_close_to_hs'\n",
    "distance_between_pts_along_ridges = 25   # km\n",
    "\n",
    "plot_histo_elev_MOR(selection_name=selection_name,\n",
    "                    distance_between_pts_along_ridges = distance_between_pts_along_ridges,\n",
    "                    sigmamodel=150,\n",
    "                    meanmodel=-2550)"
   ]
  },
  {
   "cell_type": "code",
   "execution_count": 6,
   "metadata": {},
   "outputs": [
    {
     "data": {
      "application/vnd.jupyter.widget-view+json": {
       "model_id": "fc893b21964949d2baeaeba7f08496a1",
       "version_major": 2,
       "version_minor": 0
      },
      "text/plain": [
       "Canvas(toolbar=Toolbar(toolitems=[('Home', 'Reset original view', 'home', 'home'), ('Back', 'Back to previous …"
      ]
     },
     "metadata": {},
     "output_type": "display_data"
    }
   ],
   "source": [
    "# MOR elevation versus spreading rate\n",
    "\n",
    "%matplotlib widget\n",
    "\n",
    "selection_name  ='MOR_pts_far_from_hs'\n",
    "\n",
    "plot_correlation_elev_spreading_rate(selection_name=selection_name,\n",
    "                                     distance_between_pts_along_ridges = distance_between_pts_along_ridges)"
   ]
  },
  {
   "cell_type": "code",
   "execution_count": 7,
   "metadata": {},
   "outputs": [
    {
     "name": "stdout",
     "output_type": "stream",
     "text": [
      "ETOPO 1 m min/max -9500.0 6065.0\n",
      "Unfiltered 2 arc-min ETOPO1 dataset not available (check if you have downloaded FigShare Dataset) - Not available on Binder (./data/topography/ETOPO1_Bed_g_gmt4.grd)\n",
      "Full seafloor spreading rate (Muller et al, 2008) cm/yr min/max 0.0 30.0\n",
      "Seafloor age (Muller et al, 2008) Myrs min/max 0.0 278.9200134277344\n"
     ]
    },
    {
     "ename": "ValueError",
     "evalue": "There are 5401 points and 6 values in dimension 0",
     "output_type": "error",
     "traceback": [
      "\u001b[0;31m---------------------------------------------------------------------------\u001b[0m",
      "\u001b[0;31mValueError\u001b[0m                                Traceback (most recent call last)",
      "\u001b[0;32m/var/folders/tr/w_jy07hd5gnb867nglbrbxwc0000gn/T/ipykernel_71663/4110362550.py\u001b[0m in \u001b[0;36m<module>\u001b[0;34m\u001b[0m\n\u001b[1;32m      1\u001b[0m \u001b[0;31m# Plot some bathymetric profiles along MOR (Some are shown on Fig. 3)\u001b[0m\u001b[0;34m\u001b[0m\u001b[0;34m\u001b[0m\u001b[0;34m\u001b[0m\u001b[0m\n\u001b[1;32m      2\u001b[0m \u001b[0mget_ipython\u001b[0m\u001b[0;34m(\u001b[0m\u001b[0;34m)\u001b[0m\u001b[0;34m.\u001b[0m\u001b[0mrun_line_magic\u001b[0m\u001b[0;34m(\u001b[0m\u001b[0;34m'matplotlib'\u001b[0m\u001b[0;34m,\u001b[0m \u001b[0;34m'widget'\u001b[0m\u001b[0;34m)\u001b[0m\u001b[0;34m\u001b[0m\u001b[0;34m\u001b[0m\u001b[0m\n\u001b[0;32m----> 3\u001b[0;31m \u001b[0mplot_MOR_profile\u001b[0m\u001b[0;34m(\u001b[0m\u001b[0mname\u001b[0m\u001b[0;34m=\u001b[0m\u001b[0;34m'all'\u001b[0m\u001b[0;34m,\u001b[0m\u001b[0muse_fixed_width\u001b[0m\u001b[0;34m=\u001b[0m\u001b[0;32mTrue\u001b[0m\u001b[0;34m,\u001b[0m\u001b[0mwidth\u001b[0m\u001b[0;34m=\u001b[0m\u001b[0;36m300000\u001b[0m\u001b[0;34m,\u001b[0m\u001b[0mxlim\u001b[0m\u001b[0;34m=\u001b[0m\u001b[0;34m[\u001b[0m\u001b[0;36m0\u001b[0m\u001b[0;34m,\u001b[0m\u001b[0;36m300\u001b[0m\u001b[0;34m]\u001b[0m\u001b[0;34m,\u001b[0m\u001b[0mylim\u001b[0m\u001b[0;34m=\u001b[0m\u001b[0;34m[\u001b[0m\u001b[0;34m-\u001b[0m\u001b[0;36m4500\u001b[0m\u001b[0;34m,\u001b[0m\u001b[0;34m-\u001b[0m\u001b[0;36m1500\u001b[0m\u001b[0;34m]\u001b[0m\u001b[0;34m)\u001b[0m\u001b[0;34m\u001b[0m\u001b[0;34m\u001b[0m\u001b[0m\n\u001b[0m",
      "\u001b[0;32m~/Documents/Recherche/Norway/COLORS/Thomas_Theunissen/global_analysis_python/SM_ESR_isostasy/scripts/plot_profiles.py\u001b[0m in \u001b[0;36mplot_MOR_profile\u001b[0;34m(path, name, use_fixed_width, width, xlim, ylim)\u001b[0m\n\u001b[1;32m    114\u001b[0m \u001b[0;34m\u001b[0m\u001b[0m\n\u001b[1;32m    115\u001b[0m     \u001b[0mf_interp_age\u001b[0m            \u001b[0;34m=\u001b[0m \u001b[0mRegularGridInterpolator\u001b[0m\u001b[0;34m(\u001b[0m\u001b[0;34m(\u001b[0m\u001b[0my\u001b[0m\u001b[0;34m,\u001b[0m \u001b[0mx\u001b[0m\u001b[0;34m)\u001b[0m\u001b[0;34m,\u001b[0m \u001b[0mage\u001b[0m\u001b[0;34m)\u001b[0m\u001b[0;34m\u001b[0m\u001b[0;34m\u001b[0m\u001b[0m\n\u001b[0;32m--> 116\u001b[0;31m     \u001b[0mf_interp_spreading_rate\u001b[0m \u001b[0;34m=\u001b[0m \u001b[0mRegularGridInterpolator\u001b[0m\u001b[0;34m(\u001b[0m\u001b[0;34m(\u001b[0m\u001b[0my\u001b[0m\u001b[0;34m,\u001b[0m \u001b[0mx\u001b[0m\u001b[0;34m)\u001b[0m\u001b[0;34m,\u001b[0m \u001b[0mspreading_rate\u001b[0m\u001b[0;34m)\u001b[0m\u001b[0;34m\u001b[0m\u001b[0;34m\u001b[0m\u001b[0m\n\u001b[0m\u001b[1;32m    117\u001b[0m     \u001b[0mf_interp_etopo1\u001b[0m         \u001b[0;34m=\u001b[0m \u001b[0mRegularGridInterpolator\u001b[0m\u001b[0;34m(\u001b[0m\u001b[0;34m(\u001b[0m\u001b[0my\u001b[0m\u001b[0;34m,\u001b[0m \u001b[0mx\u001b[0m\u001b[0;34m)\u001b[0m\u001b[0;34m,\u001b[0m \u001b[0melev\u001b[0m\u001b[0;34m)\u001b[0m\u001b[0;34m\u001b[0m\u001b[0;34m\u001b[0m\u001b[0m\n\u001b[1;32m    118\u001b[0m     \u001b[0;32mif\u001b[0m \u001b[0;34m(\u001b[0m\u001b[0melev_raw\u001b[0m\u001b[0;34m!=\u001b[0m\u001b[0;34m[\u001b[0m\u001b[0;34m]\u001b[0m\u001b[0;34m)\u001b[0m\u001b[0;34m:\u001b[0m\u001b[0;34m\u001b[0m\u001b[0;34m\u001b[0m\u001b[0m\n",
      "\u001b[0;32m/opt/anaconda3/envs/SM_ESR_isostasy/lib/python3.8/site-packages/scipy/interpolate/interpolate.py\u001b[0m in \u001b[0;36m__init__\u001b[0;34m(self, points, values, method, bounds_error, fill_value)\u001b[0m\n\u001b[1;32m   2478\u001b[0m                                  \"1-dimensional\" % i)\n\u001b[1;32m   2479\u001b[0m             \u001b[0;32mif\u001b[0m \u001b[0;32mnot\u001b[0m \u001b[0mvalues\u001b[0m\u001b[0;34m.\u001b[0m\u001b[0mshape\u001b[0m\u001b[0;34m[\u001b[0m\u001b[0mi\u001b[0m\u001b[0;34m]\u001b[0m \u001b[0;34m==\u001b[0m \u001b[0mlen\u001b[0m\u001b[0;34m(\u001b[0m\u001b[0mp\u001b[0m\u001b[0;34m)\u001b[0m\u001b[0;34m:\u001b[0m\u001b[0;34m\u001b[0m\u001b[0;34m\u001b[0m\u001b[0m\n\u001b[0;32m-> 2480\u001b[0;31m                 raise ValueError(\"There are %d points and %d values in \"\n\u001b[0m\u001b[1;32m   2481\u001b[0m                                  \"dimension %d\" % (len(p), values.shape[i], i))\n\u001b[1;32m   2482\u001b[0m         \u001b[0mself\u001b[0m\u001b[0;34m.\u001b[0m\u001b[0mgrid\u001b[0m \u001b[0;34m=\u001b[0m \u001b[0mtuple\u001b[0m\u001b[0;34m(\u001b[0m\u001b[0;34m[\u001b[0m\u001b[0mnp\u001b[0m\u001b[0;34m.\u001b[0m\u001b[0masarray\u001b[0m\u001b[0;34m(\u001b[0m\u001b[0mp\u001b[0m\u001b[0;34m)\u001b[0m \u001b[0;32mfor\u001b[0m \u001b[0mp\u001b[0m \u001b[0;32min\u001b[0m \u001b[0mpoints\u001b[0m\u001b[0;34m]\u001b[0m\u001b[0;34m)\u001b[0m\u001b[0;34m\u001b[0m\u001b[0;34m\u001b[0m\u001b[0m\n",
      "\u001b[0;31mValueError\u001b[0m: There are 5401 points and 6 values in dimension 0"
     ]
    }
   ],
   "source": [
    "# Plot some bathymetric profiles along MOR (Some are shown on Fig. 3)\n",
    "%matplotlib widget\n",
    "plot_MOR_profile(name='all',use_fixed_width=True,width=300000,xlim=[0,300],ylim=[-4500,-1500])"
   ]
  },
  {
   "cell_type": "code",
   "execution_count": null,
   "metadata": {},
   "outputs": [],
   "source": []
  }
 ],
 "metadata": {
  "kernelspec": {
   "display_name": "Python 3 (ipykernel)",
   "language": "python",
   "name": "python3"
  },
  "language_info": {
   "codemirror_mode": {
    "name": "ipython",
    "version": 3
   },
   "file_extension": ".py",
   "mimetype": "text/x-python",
   "name": "python",
   "nbconvert_exporter": "python",
   "pygments_lexer": "ipython3",
   "version": "3.8.12"
  }
 },
 "nbformat": 4,
 "nbformat_minor": 4
}
